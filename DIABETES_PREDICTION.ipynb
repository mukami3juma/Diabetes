{
  "nbformat": 4,
  "nbformat_minor": 0,
  "metadata": {
    "colab": {
      "name": "DIABETES PREDICTION.ipynb",
      "provenance": [],
      "collapsed_sections": [],
      "toc_visible": true,
      "include_colab_link": true
    },
    "kernelspec": {
      "name": "python3",
      "display_name": "Python 3"
    },
    "language_info": {
      "name": "python"
    },
    "accelerator": "GPU"
  },
  "cells": [
    {
      "cell_type": "markdown",
      "metadata": {
        "id": "view-in-github",
        "colab_type": "text"
      },
      "source": [
        "<a href=\"https://colab.research.google.com/github/mukami3juma/Diabetes/blob/main/DIABETES_PREDICTION.ipynb\" target=\"_parent\"><img src=\"https://colab.research.google.com/assets/colab-badge.svg\" alt=\"Open In Colab\"/></a>"
      ]
    },
    {
      "cell_type": "markdown",
      "source": [
        "#1. Defining the question\n",
        "\n",
        "\n",
        "\n"
      ],
      "metadata": {
        "id": "itLDEfIoNHm1"
      }
    },
    {
      "cell_type": "markdown",
      "source": [
        "## a.) Specifying the question\n",
        "\n",
        "\n"
      ],
      "metadata": {
        "id": "CiPYRIeXNPZJ"
      }
    },
    {
      "cell_type": "markdown",
      "source": [
        "Given health indicators such as physical health, cholestrol level, BMI(body mass index), alcohol consumption and other variables provided in the dataset, we would like to build a predictive model that determines if a patient has diabetes or not. Basically,we would like to identify health indicators that are most predictive of diabetes risk.\n"
      ],
      "metadata": {
        "id": "qPihupR-r1lY"
      }
    },
    {
      "cell_type": "markdown",
      "source": [
        "## b.) Defining the metrics of success\n",
        "\n",
        "Our success will be determined by the model that achieves an accuracy score of over 80%"
      ],
      "metadata": {
        "id": "c1u-jA_lN_rz"
      }
    },
    {
      "cell_type": "markdown",
      "source": [
        "##c.) Understanding the context\n",
        "- Diabetes is among the most prevalent chronic diseases in the United States, impacting millions of Americans each year and exerting a significant financial burden on the economy.It is a serious, chronic disease that occurs either when the pancreas does not produce enough insulin (a hormone that regulates blood sugar, or glucose), or when the body cannot effectively use the insulin it produces. \n",
        "- Complications like heart disease, vision loss, lower-limb amputation, and kidney disease are associated with chronically high levels of sugar remaining in the bloodstream for those with diabetes. While there is no cure for diabetes, strategies like losing weight, eating healthily, being active, and receiving medical treatments can mitigate the harms of this disease in many patients. Early diagnosis can lead to lifestyle changes and more effective treatment, making predictive models for diabetes risk important tools for public and public health officials.\n",
        "\n",
        "- The scale of this problem is also important to recognize. The Centers for Disease Control and Prevention has indicated that as of 2018, 34.2 million Americans have diabetes and 88 million have prediabetes. Furthermore, the CDC estimates that 1 in 5 diabetics, and roughly 8 in 10 prediabetics are unaware of their risk. While there are different types of diabetes, type II diabetes is the most common form and its prevalence varies by age, education, income, location, race, and other social determinants of health. Much of the burden of the disease falls on those of lower socioeconomic status as well. Diabetes also places a massive burden on the economy, with diagnosed diabetes costs of roughly 327 billion dollars and total costs with undiagnosed diabetes and prediabetes approaching 400 billion dollars annually.\n",
        "\n",
        "- The Behavioral Risk Factor Surveillance System (BRFSS) is a health-related telephone survey that is collected annually by the CDC. Each year, the survey collects responses from over 400,000 Americans on health-related risk behaviors, chronic health conditions, and the use of preventative services. It has been conducted every year since 1984.  This original dataset contains responses from 441,455 individuals and has 330 features. These features are either questions directly asked of participants, or calculated variables based on individual participant responses.\n",
        "Diabetes is an important public health problem, one of four priority noncommunicable diseases(NCDs) targeted for action by world leaders. Both the number of cases and the prevalence of diabetes have been steadily increasing over the past few decades.\n",
        "\n",
        "- Globally, an estimated 422 million adults were living with diabetes in 2014, compared to 108 million in 1980.\n",
        "The global prevalence (age-standardized) of diabetes has nearly doubled since 1980, rising from 4.7% to 8.5% in the adult population. This reflects an increase in associated risk factors such as being overweight or obese. Over the past decade, diabetes prevalence has risen faster in low- and middle-income countries than in high-income countries."
      ],
      "metadata": {
        "id": "o--P2ARyTIMP"
      }
    },
    {
      "cell_type": "markdown",
      "source": [
        "## d.) Experimental Design\n",
        "\n",
        "This project will involve review and cleaning of the dataset while performing exploratory data analysis of the dataset, descriptive statistics, regression, decision trees, SVMs, KNNs, Naive Bayes and Neural Networks. We will also do model optimization using different training and testing parameters with other optimization techiques that are fit for the model used. We will do hyperparameter tuning to obtain the best estimator and finally provide further recomendation on how to improve the classifier into the best model."
      ],
      "metadata": {
        "id": "IUrswX8vVK7-"
      }
    },
    {
      "cell_type": "markdown",
      "source": [
        "## e.) Data Relevance\n",
        "\n",
        "The data we have is relevant for analysis since it is from Behavioral Risk Factor Survaillance Survailance System (BRFSS2015). It was established in the year 1984 to **collect** data about USA residents on their health related risk behaviours, chronic conditions and use of preventive services.\n",
        "Dataset used can be found here: https://www.kaggle.com/alexteboul/diabetes-health-indicators-dataset?select=diabetes_binary_health_indicators_BRFSS2015.csv which is a dataset of 253,680 survey responses to the CDC's BRFSS2015. The target variable Diabetes_binary has 2 classes; 0 for no diabetes, and 1 for diabetes. Other variables include:\n",
        "\n",
        "- HighBP\n",
        "0 = no high BP, 1 = high BP\n",
        "\n",
        "- HighChol\n",
        "0 = no high cholesterol ,1 = high cholesterol\n",
        "\n",
        "- CholCheck\n",
        "0 = no cholesterol check in 5 years 1 = yes cholesterol check in 5 years\n",
        "\n",
        "- BMI\n",
        "Body Mass Index\n",
        "\n",
        "- Smoker\n",
        "Have you smoked at least 100 cigarettes in your entire life? [Note: 5 packs = 100 cigarettes] 0 = no,1 = yes\n",
        "\n",
        "- Stroke\n",
        "Have you ever had a stroke. 0 = no,1 = yes\n",
        "\n",
        "- HeartDiseaseorAttack\n",
        "coronary heart disease (CHD) or myocardial infarction (MI) 0 = no,1 = yes\n",
        "\n",
        "- PhysActivity\n",
        "physical activity in past 30 days - not including job 0 = no,1 = yes\n",
        "\n",
        "- Fruits\n",
        "Consume Fruit 1 or more times per day 0 = no ,1 = yes\n",
        "\n",
        "- Vegetables\n",
        "Consume vegetables 1 or more times per day 0 = no ,1 = yes\n",
        "\n",
        "- DiffWalk\n",
        "Shows whether a respondent takes a walk in a day or not;0 = no ,1 = yes\n",
        "\n",
        "- Sex i.e gender\n",
        "where 0 = women, 1 = men\n",
        "\n",
        "- age :1 Age 18 to 24,\n",
        "2 Age 25 to 29,\n",
        "3 Age 30 to 34,\n",
        "4 Age 35 to 39,\n",
        "5 Age 40 to 44,\n",
        "6 Age 45 to 49,\n",
        "7 Age 50 to 54,\n",
        "8 Age 55 to 59,\n",
        "9 Age 60 to 64,\n",
        "10 Age 65 to 69,\n",
        "11 Age 70 to 74,\n",
        "12 Age 75 to 79,\n",
        "13 Age 80 or older,\n"
      ],
      "metadata": {
        "id": "3ETBadNFV79I"
      }
    },
    {
      "cell_type": "markdown",
      "source": [
        "#2.) Reading the Data"
      ],
      "metadata": {
        "id": "ngLlw20wXu8B"
      }
    },
    {
      "cell_type": "markdown",
      "source": [
        "Importing libraries "
      ],
      "metadata": {
        "id": "6cLuqU-H8TbQ"
      }
    },
    {
      "cell_type": "code",
      "execution_count": 1,
      "metadata": {
        "id": "j1snfgAY7z59"
      },
      "outputs": [],
      "source": [
        "import pandas as pd\n",
        "import numpy as np#For working with numbers \n",
        "from scipy import stats#for statistic\n",
        "import seaborn as sns# for visualization \n",
        "import matplotlib.pyplot as plt#for plotting \n",
        "%matplotlib inline\n",
        "\n",
        "from sklearn.metrics import accuracy_score, confusion_matrix, precision_score, explained_variance_score,classification_report\n",
        "from sklearn.preprocessing import LabelEncoder#for encoding \n",
        "from sklearn.preprocessing import StandardScaler#for scaling \n",
        "from sklearn.model_selection import KFold, cross_val_score, train_test_split, StratifiedKFold, GridSearchCV\n",
        "\n",
        "from sklearn.metrics import confusion_matrix, accuracy_score, precision_score, recall_score, f1_score, log_loss\n",
        "from sklearn.metrics import roc_curve, roc_auc_score, auc\n",
        "from sklearn.naive_bayes import GaussianNB\n",
        "plt.style.use(\"Solarize_Light2\")\n",
        "\n",
        "# from google.colab import data_table\n",
        "# data_table.enable_dataframe_formatter()\n",
        "\n",
        "import warnings\n",
        "warnings.filterwarnings(\"ignore\")#to remove warning on deprecated lines of codes "
      ]
    },
    {
      "cell_type": "markdown",
      "source": [
        "Loading the dataset\n"
      ],
      "metadata": {
        "id": "7iflbzWqeKZf"
      }
    },
    {
      "cell_type": "code",
      "source": [
        "df = pd.read_csv(\"/content/diabetes_binary_health_indicators_BRFSS2015.csv.zip\")\n"
      ],
      "metadata": {
        "id": "sdH6CBfX9DbY"
      },
      "execution_count": 2,
      "outputs": []
    },
    {
      "cell_type": "markdown",
      "source": [
        "Exploring the dataset"
      ],
      "metadata": {
        "id": "dmsST7QTY4z9"
      }
    },
    {
      "cell_type": "code",
      "source": [
        "df.head()"
      ],
      "metadata": {
        "id": "xNXlpCTBiNIO",
        "colab": {
          "base_uri": "https://localhost:8080/",
          "height": 270
        },
        "outputId": "65f40843-8f3c-475d-e875-a730d0e65caa"
      },
      "execution_count": 3,
      "outputs": [
        {
          "output_type": "execute_result",
          "data": {
            "text/html": [
              "\n",
              "  <div id=\"df-f392429e-96f7-4970-bdec-d662bcf8a383\">\n",
              "    <div class=\"colab-df-container\">\n",
              "      <div>\n",
              "<style scoped>\n",
              "    .dataframe tbody tr th:only-of-type {\n",
              "        vertical-align: middle;\n",
              "    }\n",
              "\n",
              "    .dataframe tbody tr th {\n",
              "        vertical-align: top;\n",
              "    }\n",
              "\n",
              "    .dataframe thead th {\n",
              "        text-align: right;\n",
              "    }\n",
              "</style>\n",
              "<table border=\"1\" class=\"dataframe\">\n",
              "  <thead>\n",
              "    <tr style=\"text-align: right;\">\n",
              "      <th></th>\n",
              "      <th>Diabetes_binary</th>\n",
              "      <th>HighBP</th>\n",
              "      <th>HighChol</th>\n",
              "      <th>CholCheck</th>\n",
              "      <th>BMI</th>\n",
              "      <th>Smoker</th>\n",
              "      <th>Stroke</th>\n",
              "      <th>HeartDiseaseorAttack</th>\n",
              "      <th>PhysActivity</th>\n",
              "      <th>Fruits</th>\n",
              "      <th>Veggies</th>\n",
              "      <th>HvyAlcoholConsump</th>\n",
              "      <th>AnyHealthcare</th>\n",
              "      <th>NoDocbcCost</th>\n",
              "      <th>GenHlth</th>\n",
              "      <th>MentHlth</th>\n",
              "      <th>PhysHlth</th>\n",
              "      <th>DiffWalk</th>\n",
              "      <th>Sex</th>\n",
              "      <th>Age</th>\n",
              "      <th>Education</th>\n",
              "      <th>Income</th>\n",
              "    </tr>\n",
              "  </thead>\n",
              "  <tbody>\n",
              "    <tr>\n",
              "      <th>0</th>\n",
              "      <td>0.0</td>\n",
              "      <td>1.0</td>\n",
              "      <td>1.0</td>\n",
              "      <td>1.0</td>\n",
              "      <td>40.0</td>\n",
              "      <td>1.0</td>\n",
              "      <td>0.0</td>\n",
              "      <td>0.0</td>\n",
              "      <td>0.0</td>\n",
              "      <td>0.0</td>\n",
              "      <td>1.0</td>\n",
              "      <td>0.0</td>\n",
              "      <td>1.0</td>\n",
              "      <td>0.0</td>\n",
              "      <td>5.0</td>\n",
              "      <td>18.0</td>\n",
              "      <td>15.0</td>\n",
              "      <td>1.0</td>\n",
              "      <td>0.0</td>\n",
              "      <td>9.0</td>\n",
              "      <td>4.0</td>\n",
              "      <td>3.0</td>\n",
              "    </tr>\n",
              "    <tr>\n",
              "      <th>1</th>\n",
              "      <td>0.0</td>\n",
              "      <td>0.0</td>\n",
              "      <td>0.0</td>\n",
              "      <td>0.0</td>\n",
              "      <td>25.0</td>\n",
              "      <td>1.0</td>\n",
              "      <td>0.0</td>\n",
              "      <td>0.0</td>\n",
              "      <td>1.0</td>\n",
              "      <td>0.0</td>\n",
              "      <td>0.0</td>\n",
              "      <td>0.0</td>\n",
              "      <td>0.0</td>\n",
              "      <td>1.0</td>\n",
              "      <td>3.0</td>\n",
              "      <td>0.0</td>\n",
              "      <td>0.0</td>\n",
              "      <td>0.0</td>\n",
              "      <td>0.0</td>\n",
              "      <td>7.0</td>\n",
              "      <td>6.0</td>\n",
              "      <td>1.0</td>\n",
              "    </tr>\n",
              "    <tr>\n",
              "      <th>2</th>\n",
              "      <td>0.0</td>\n",
              "      <td>1.0</td>\n",
              "      <td>1.0</td>\n",
              "      <td>1.0</td>\n",
              "      <td>28.0</td>\n",
              "      <td>0.0</td>\n",
              "      <td>0.0</td>\n",
              "      <td>0.0</td>\n",
              "      <td>0.0</td>\n",
              "      <td>1.0</td>\n",
              "      <td>0.0</td>\n",
              "      <td>0.0</td>\n",
              "      <td>1.0</td>\n",
              "      <td>1.0</td>\n",
              "      <td>5.0</td>\n",
              "      <td>30.0</td>\n",
              "      <td>30.0</td>\n",
              "      <td>1.0</td>\n",
              "      <td>0.0</td>\n",
              "      <td>9.0</td>\n",
              "      <td>4.0</td>\n",
              "      <td>8.0</td>\n",
              "    </tr>\n",
              "    <tr>\n",
              "      <th>3</th>\n",
              "      <td>0.0</td>\n",
              "      <td>1.0</td>\n",
              "      <td>0.0</td>\n",
              "      <td>1.0</td>\n",
              "      <td>27.0</td>\n",
              "      <td>0.0</td>\n",
              "      <td>0.0</td>\n",
              "      <td>0.0</td>\n",
              "      <td>1.0</td>\n",
              "      <td>1.0</td>\n",
              "      <td>1.0</td>\n",
              "      <td>0.0</td>\n",
              "      <td>1.0</td>\n",
              "      <td>0.0</td>\n",
              "      <td>2.0</td>\n",
              "      <td>0.0</td>\n",
              "      <td>0.0</td>\n",
              "      <td>0.0</td>\n",
              "      <td>0.0</td>\n",
              "      <td>11.0</td>\n",
              "      <td>3.0</td>\n",
              "      <td>6.0</td>\n",
              "    </tr>\n",
              "    <tr>\n",
              "      <th>4</th>\n",
              "      <td>0.0</td>\n",
              "      <td>1.0</td>\n",
              "      <td>1.0</td>\n",
              "      <td>1.0</td>\n",
              "      <td>24.0</td>\n",
              "      <td>0.0</td>\n",
              "      <td>0.0</td>\n",
              "      <td>0.0</td>\n",
              "      <td>1.0</td>\n",
              "      <td>1.0</td>\n",
              "      <td>1.0</td>\n",
              "      <td>0.0</td>\n",
              "      <td>1.0</td>\n",
              "      <td>0.0</td>\n",
              "      <td>2.0</td>\n",
              "      <td>3.0</td>\n",
              "      <td>0.0</td>\n",
              "      <td>0.0</td>\n",
              "      <td>0.0</td>\n",
              "      <td>11.0</td>\n",
              "      <td>5.0</td>\n",
              "      <td>4.0</td>\n",
              "    </tr>\n",
              "  </tbody>\n",
              "</table>\n",
              "</div>\n",
              "      <button class=\"colab-df-convert\" onclick=\"convertToInteractive('df-f392429e-96f7-4970-bdec-d662bcf8a383')\"\n",
              "              title=\"Convert this dataframe to an interactive table.\"\n",
              "              style=\"display:none;\">\n",
              "        \n",
              "  <svg xmlns=\"http://www.w3.org/2000/svg\" height=\"24px\"viewBox=\"0 0 24 24\"\n",
              "       width=\"24px\">\n",
              "    <path d=\"M0 0h24v24H0V0z\" fill=\"none\"/>\n",
              "    <path d=\"M18.56 5.44l.94 2.06.94-2.06 2.06-.94-2.06-.94-.94-2.06-.94 2.06-2.06.94zm-11 1L8.5 8.5l.94-2.06 2.06-.94-2.06-.94L8.5 2.5l-.94 2.06-2.06.94zm10 10l.94 2.06.94-2.06 2.06-.94-2.06-.94-.94-2.06-.94 2.06-2.06.94z\"/><path d=\"M17.41 7.96l-1.37-1.37c-.4-.4-.92-.59-1.43-.59-.52 0-1.04.2-1.43.59L10.3 9.45l-7.72 7.72c-.78.78-.78 2.05 0 2.83L4 21.41c.39.39.9.59 1.41.59.51 0 1.02-.2 1.41-.59l7.78-7.78 2.81-2.81c.8-.78.8-2.07 0-2.86zM5.41 20L4 18.59l7.72-7.72 1.47 1.35L5.41 20z\"/>\n",
              "  </svg>\n",
              "      </button>\n",
              "      \n",
              "  <style>\n",
              "    .colab-df-container {\n",
              "      display:flex;\n",
              "      flex-wrap:wrap;\n",
              "      gap: 12px;\n",
              "    }\n",
              "\n",
              "    .colab-df-convert {\n",
              "      background-color: #E8F0FE;\n",
              "      border: none;\n",
              "      border-radius: 50%;\n",
              "      cursor: pointer;\n",
              "      display: none;\n",
              "      fill: #1967D2;\n",
              "      height: 32px;\n",
              "      padding: 0 0 0 0;\n",
              "      width: 32px;\n",
              "    }\n",
              "\n",
              "    .colab-df-convert:hover {\n",
              "      background-color: #E2EBFA;\n",
              "      box-shadow: 0px 1px 2px rgba(60, 64, 67, 0.3), 0px 1px 3px 1px rgba(60, 64, 67, 0.15);\n",
              "      fill: #174EA6;\n",
              "    }\n",
              "\n",
              "    [theme=dark] .colab-df-convert {\n",
              "      background-color: #3B4455;\n",
              "      fill: #D2E3FC;\n",
              "    }\n",
              "\n",
              "    [theme=dark] .colab-df-convert:hover {\n",
              "      background-color: #434B5C;\n",
              "      box-shadow: 0px 1px 3px 1px rgba(0, 0, 0, 0.15);\n",
              "      filter: drop-shadow(0px 1px 2px rgba(0, 0, 0, 0.3));\n",
              "      fill: #FFFFFF;\n",
              "    }\n",
              "  </style>\n",
              "\n",
              "      <script>\n",
              "        const buttonEl =\n",
              "          document.querySelector('#df-f392429e-96f7-4970-bdec-d662bcf8a383 button.colab-df-convert');\n",
              "        buttonEl.style.display =\n",
              "          google.colab.kernel.accessAllowed ? 'block' : 'none';\n",
              "\n",
              "        async function convertToInteractive(key) {\n",
              "          const element = document.querySelector('#df-f392429e-96f7-4970-bdec-d662bcf8a383');\n",
              "          const dataTable =\n",
              "            await google.colab.kernel.invokeFunction('convertToInteractive',\n",
              "                                                     [key], {});\n",
              "          if (!dataTable) return;\n",
              "\n",
              "          const docLinkHtml = 'Like what you see? Visit the ' +\n",
              "            '<a target=\"_blank\" href=https://colab.research.google.com/notebooks/data_table.ipynb>data table notebook</a>'\n",
              "            + ' to learn more about interactive tables.';\n",
              "          element.innerHTML = '';\n",
              "          dataTable['output_type'] = 'display_data';\n",
              "          await google.colab.output.renderOutput(dataTable, element);\n",
              "          const docLink = document.createElement('div');\n",
              "          docLink.innerHTML = docLinkHtml;\n",
              "          element.appendChild(docLink);\n",
              "        }\n",
              "      </script>\n",
              "    </div>\n",
              "  </div>\n",
              "  "
            ],
            "text/plain": [
              "   Diabetes_binary  HighBP  HighChol  CholCheck  ...  Sex   Age  Education  Income\n",
              "0              0.0     1.0       1.0        1.0  ...  0.0   9.0        4.0     3.0\n",
              "1              0.0     0.0       0.0        0.0  ...  0.0   7.0        6.0     1.0\n",
              "2              0.0     1.0       1.0        1.0  ...  0.0   9.0        4.0     8.0\n",
              "3              0.0     1.0       0.0        1.0  ...  0.0  11.0        3.0     6.0\n",
              "4              0.0     1.0       1.0        1.0  ...  0.0  11.0        5.0     4.0\n",
              "\n",
              "[5 rows x 22 columns]"
            ]
          },
          "metadata": {},
          "execution_count": 3
        }
      ]
    },
    {
      "cell_type": "code",
      "source": [
        "df.tail()"
      ],
      "metadata": {
        "id": "34umS_3sZluh",
        "colab": {
          "base_uri": "https://localhost:8080/",
          "height": 270
        },
        "outputId": "ec571bcd-dcc2-4d21-aed4-6f892b0dfa91"
      },
      "execution_count": 4,
      "outputs": [
        {
          "output_type": "execute_result",
          "data": {
            "text/html": [
              "\n",
              "  <div id=\"df-f2c4a271-1a51-40a0-8dca-ab754dbc5d7d\">\n",
              "    <div class=\"colab-df-container\">\n",
              "      <div>\n",
              "<style scoped>\n",
              "    .dataframe tbody tr th:only-of-type {\n",
              "        vertical-align: middle;\n",
              "    }\n",
              "\n",
              "    .dataframe tbody tr th {\n",
              "        vertical-align: top;\n",
              "    }\n",
              "\n",
              "    .dataframe thead th {\n",
              "        text-align: right;\n",
              "    }\n",
              "</style>\n",
              "<table border=\"1\" class=\"dataframe\">\n",
              "  <thead>\n",
              "    <tr style=\"text-align: right;\">\n",
              "      <th></th>\n",
              "      <th>Diabetes_binary</th>\n",
              "      <th>HighBP</th>\n",
              "      <th>HighChol</th>\n",
              "      <th>CholCheck</th>\n",
              "      <th>BMI</th>\n",
              "      <th>Smoker</th>\n",
              "      <th>Stroke</th>\n",
              "      <th>HeartDiseaseorAttack</th>\n",
              "      <th>PhysActivity</th>\n",
              "      <th>Fruits</th>\n",
              "      <th>Veggies</th>\n",
              "      <th>HvyAlcoholConsump</th>\n",
              "      <th>AnyHealthcare</th>\n",
              "      <th>NoDocbcCost</th>\n",
              "      <th>GenHlth</th>\n",
              "      <th>MentHlth</th>\n",
              "      <th>PhysHlth</th>\n",
              "      <th>DiffWalk</th>\n",
              "      <th>Sex</th>\n",
              "      <th>Age</th>\n",
              "      <th>Education</th>\n",
              "      <th>Income</th>\n",
              "    </tr>\n",
              "  </thead>\n",
              "  <tbody>\n",
              "    <tr>\n",
              "      <th>253675</th>\n",
              "      <td>0.0</td>\n",
              "      <td>1.0</td>\n",
              "      <td>1.0</td>\n",
              "      <td>1.0</td>\n",
              "      <td>45.0</td>\n",
              "      <td>0.0</td>\n",
              "      <td>0.0</td>\n",
              "      <td>0.0</td>\n",
              "      <td>0.0</td>\n",
              "      <td>1.0</td>\n",
              "      <td>1.0</td>\n",
              "      <td>0.0</td>\n",
              "      <td>1.0</td>\n",
              "      <td>0.0</td>\n",
              "      <td>3.0</td>\n",
              "      <td>0.0</td>\n",
              "      <td>5.0</td>\n",
              "      <td>0.0</td>\n",
              "      <td>1.0</td>\n",
              "      <td>5.0</td>\n",
              "      <td>6.0</td>\n",
              "      <td>7.0</td>\n",
              "    </tr>\n",
              "    <tr>\n",
              "      <th>253676</th>\n",
              "      <td>1.0</td>\n",
              "      <td>1.0</td>\n",
              "      <td>1.0</td>\n",
              "      <td>1.0</td>\n",
              "      <td>18.0</td>\n",
              "      <td>0.0</td>\n",
              "      <td>0.0</td>\n",
              "      <td>0.0</td>\n",
              "      <td>0.0</td>\n",
              "      <td>0.0</td>\n",
              "      <td>0.0</td>\n",
              "      <td>0.0</td>\n",
              "      <td>1.0</td>\n",
              "      <td>0.0</td>\n",
              "      <td>4.0</td>\n",
              "      <td>0.0</td>\n",
              "      <td>0.0</td>\n",
              "      <td>1.0</td>\n",
              "      <td>0.0</td>\n",
              "      <td>11.0</td>\n",
              "      <td>2.0</td>\n",
              "      <td>4.0</td>\n",
              "    </tr>\n",
              "    <tr>\n",
              "      <th>253677</th>\n",
              "      <td>0.0</td>\n",
              "      <td>0.0</td>\n",
              "      <td>0.0</td>\n",
              "      <td>1.0</td>\n",
              "      <td>28.0</td>\n",
              "      <td>0.0</td>\n",
              "      <td>0.0</td>\n",
              "      <td>0.0</td>\n",
              "      <td>1.0</td>\n",
              "      <td>1.0</td>\n",
              "      <td>0.0</td>\n",
              "      <td>0.0</td>\n",
              "      <td>1.0</td>\n",
              "      <td>0.0</td>\n",
              "      <td>1.0</td>\n",
              "      <td>0.0</td>\n",
              "      <td>0.0</td>\n",
              "      <td>0.0</td>\n",
              "      <td>0.0</td>\n",
              "      <td>2.0</td>\n",
              "      <td>5.0</td>\n",
              "      <td>2.0</td>\n",
              "    </tr>\n",
              "    <tr>\n",
              "      <th>253678</th>\n",
              "      <td>0.0</td>\n",
              "      <td>1.0</td>\n",
              "      <td>0.0</td>\n",
              "      <td>1.0</td>\n",
              "      <td>23.0</td>\n",
              "      <td>0.0</td>\n",
              "      <td>0.0</td>\n",
              "      <td>0.0</td>\n",
              "      <td>0.0</td>\n",
              "      <td>1.0</td>\n",
              "      <td>1.0</td>\n",
              "      <td>0.0</td>\n",
              "      <td>1.0</td>\n",
              "      <td>0.0</td>\n",
              "      <td>3.0</td>\n",
              "      <td>0.0</td>\n",
              "      <td>0.0</td>\n",
              "      <td>0.0</td>\n",
              "      <td>1.0</td>\n",
              "      <td>7.0</td>\n",
              "      <td>5.0</td>\n",
              "      <td>1.0</td>\n",
              "    </tr>\n",
              "    <tr>\n",
              "      <th>253679</th>\n",
              "      <td>1.0</td>\n",
              "      <td>1.0</td>\n",
              "      <td>1.0</td>\n",
              "      <td>1.0</td>\n",
              "      <td>25.0</td>\n",
              "      <td>0.0</td>\n",
              "      <td>0.0</td>\n",
              "      <td>1.0</td>\n",
              "      <td>1.0</td>\n",
              "      <td>1.0</td>\n",
              "      <td>0.0</td>\n",
              "      <td>0.0</td>\n",
              "      <td>1.0</td>\n",
              "      <td>0.0</td>\n",
              "      <td>2.0</td>\n",
              "      <td>0.0</td>\n",
              "      <td>0.0</td>\n",
              "      <td>0.0</td>\n",
              "      <td>0.0</td>\n",
              "      <td>9.0</td>\n",
              "      <td>6.0</td>\n",
              "      <td>2.0</td>\n",
              "    </tr>\n",
              "  </tbody>\n",
              "</table>\n",
              "</div>\n",
              "      <button class=\"colab-df-convert\" onclick=\"convertToInteractive('df-f2c4a271-1a51-40a0-8dca-ab754dbc5d7d')\"\n",
              "              title=\"Convert this dataframe to an interactive table.\"\n",
              "              style=\"display:none;\">\n",
              "        \n",
              "  <svg xmlns=\"http://www.w3.org/2000/svg\" height=\"24px\"viewBox=\"0 0 24 24\"\n",
              "       width=\"24px\">\n",
              "    <path d=\"M0 0h24v24H0V0z\" fill=\"none\"/>\n",
              "    <path d=\"M18.56 5.44l.94 2.06.94-2.06 2.06-.94-2.06-.94-.94-2.06-.94 2.06-2.06.94zm-11 1L8.5 8.5l.94-2.06 2.06-.94-2.06-.94L8.5 2.5l-.94 2.06-2.06.94zm10 10l.94 2.06.94-2.06 2.06-.94-2.06-.94-.94-2.06-.94 2.06-2.06.94z\"/><path d=\"M17.41 7.96l-1.37-1.37c-.4-.4-.92-.59-1.43-.59-.52 0-1.04.2-1.43.59L10.3 9.45l-7.72 7.72c-.78.78-.78 2.05 0 2.83L4 21.41c.39.39.9.59 1.41.59.51 0 1.02-.2 1.41-.59l7.78-7.78 2.81-2.81c.8-.78.8-2.07 0-2.86zM5.41 20L4 18.59l7.72-7.72 1.47 1.35L5.41 20z\"/>\n",
              "  </svg>\n",
              "      </button>\n",
              "      \n",
              "  <style>\n",
              "    .colab-df-container {\n",
              "      display:flex;\n",
              "      flex-wrap:wrap;\n",
              "      gap: 12px;\n",
              "    }\n",
              "\n",
              "    .colab-df-convert {\n",
              "      background-color: #E8F0FE;\n",
              "      border: none;\n",
              "      border-radius: 50%;\n",
              "      cursor: pointer;\n",
              "      display: none;\n",
              "      fill: #1967D2;\n",
              "      height: 32px;\n",
              "      padding: 0 0 0 0;\n",
              "      width: 32px;\n",
              "    }\n",
              "\n",
              "    .colab-df-convert:hover {\n",
              "      background-color: #E2EBFA;\n",
              "      box-shadow: 0px 1px 2px rgba(60, 64, 67, 0.3), 0px 1px 3px 1px rgba(60, 64, 67, 0.15);\n",
              "      fill: #174EA6;\n",
              "    }\n",
              "\n",
              "    [theme=dark] .colab-df-convert {\n",
              "      background-color: #3B4455;\n",
              "      fill: #D2E3FC;\n",
              "    }\n",
              "\n",
              "    [theme=dark] .colab-df-convert:hover {\n",
              "      background-color: #434B5C;\n",
              "      box-shadow: 0px 1px 3px 1px rgba(0, 0, 0, 0.15);\n",
              "      filter: drop-shadow(0px 1px 2px rgba(0, 0, 0, 0.3));\n",
              "      fill: #FFFFFF;\n",
              "    }\n",
              "  </style>\n",
              "\n",
              "      <script>\n",
              "        const buttonEl =\n",
              "          document.querySelector('#df-f2c4a271-1a51-40a0-8dca-ab754dbc5d7d button.colab-df-convert');\n",
              "        buttonEl.style.display =\n",
              "          google.colab.kernel.accessAllowed ? 'block' : 'none';\n",
              "\n",
              "        async function convertToInteractive(key) {\n",
              "          const element = document.querySelector('#df-f2c4a271-1a51-40a0-8dca-ab754dbc5d7d');\n",
              "          const dataTable =\n",
              "            await google.colab.kernel.invokeFunction('convertToInteractive',\n",
              "                                                     [key], {});\n",
              "          if (!dataTable) return;\n",
              "\n",
              "          const docLinkHtml = 'Like what you see? Visit the ' +\n",
              "            '<a target=\"_blank\" href=https://colab.research.google.com/notebooks/data_table.ipynb>data table notebook</a>'\n",
              "            + ' to learn more about interactive tables.';\n",
              "          element.innerHTML = '';\n",
              "          dataTable['output_type'] = 'display_data';\n",
              "          await google.colab.output.renderOutput(dataTable, element);\n",
              "          const docLink = document.createElement('div');\n",
              "          docLink.innerHTML = docLinkHtml;\n",
              "          element.appendChild(docLink);\n",
              "        }\n",
              "      </script>\n",
              "    </div>\n",
              "  </div>\n",
              "  "
            ],
            "text/plain": [
              "        Diabetes_binary  HighBP  HighChol  ...   Age  Education  Income\n",
              "253675              0.0     1.0       1.0  ...   5.0        6.0     7.0\n",
              "253676              1.0     1.0       1.0  ...  11.0        2.0     4.0\n",
              "253677              0.0     0.0       0.0  ...   2.0        5.0     2.0\n",
              "253678              0.0     1.0       0.0  ...   7.0        5.0     1.0\n",
              "253679              1.0     1.0       1.0  ...   9.0        6.0     2.0\n",
              "\n",
              "[5 rows x 22 columns]"
            ]
          },
          "metadata": {},
          "execution_count": 4
        }
      ]
    },
    {
      "cell_type": "markdown",
      "source": [
        "checking for the features in the dataset"
      ],
      "metadata": {
        "id": "pVmxWZHHNZ71"
      }
    },
    {
      "cell_type": "code",
      "source": [
        "# Cheking the shape of the dataset\n",
        "print('shape of the dataset: ',df.shape)\n",
        "print('The dataset has ',df.shape[0],' rows and ',df.shape[1], 'columns.')"
      ],
      "metadata": {
        "id": "C8v14gWsCuzX",
        "colab": {
          "base_uri": "https://localhost:8080/"
        },
        "outputId": "d50c7cc2-4d08-4887-aba8-7c380626b5df"
      },
      "execution_count": 5,
      "outputs": [
        {
          "output_type": "stream",
          "name": "stdout",
          "text": [
            "shape of the dataset:  (253680, 22)\n",
            "The dataset has  253680  rows and  22 columns.\n"
          ]
        }
      ]
    },
    {
      "cell_type": "code",
      "source": [
        "#checking for the dataset datatypes and information\n",
        "df.info()"
      ],
      "metadata": {
        "id": "qh30cvsVCcGM",
        "colab": {
          "base_uri": "https://localhost:8080/"
        },
        "outputId": "764e7ab0-a98d-4c09-e20f-7a977ce2c21f"
      },
      "execution_count": 6,
      "outputs": [
        {
          "output_type": "stream",
          "name": "stdout",
          "text": [
            "<class 'pandas.core.frame.DataFrame'>\n",
            "RangeIndex: 253680 entries, 0 to 253679\n",
            "Data columns (total 22 columns):\n",
            " #   Column                Non-Null Count   Dtype  \n",
            "---  ------                --------------   -----  \n",
            " 0   Diabetes_binary       253680 non-null  float64\n",
            " 1   HighBP                253680 non-null  float64\n",
            " 2   HighChol              253680 non-null  float64\n",
            " 3   CholCheck             253680 non-null  float64\n",
            " 4   BMI                   253680 non-null  float64\n",
            " 5   Smoker                253680 non-null  float64\n",
            " 6   Stroke                253680 non-null  float64\n",
            " 7   HeartDiseaseorAttack  253680 non-null  float64\n",
            " 8   PhysActivity          253680 non-null  float64\n",
            " 9   Fruits                253680 non-null  float64\n",
            " 10  Veggies               253680 non-null  float64\n",
            " 11  HvyAlcoholConsump     253680 non-null  float64\n",
            " 12  AnyHealthcare         253680 non-null  float64\n",
            " 13  NoDocbcCost           253680 non-null  float64\n",
            " 14  GenHlth               253680 non-null  float64\n",
            " 15  MentHlth              253680 non-null  float64\n",
            " 16  PhysHlth              253680 non-null  float64\n",
            " 17  DiffWalk              253680 non-null  float64\n",
            " 18  Sex                   253680 non-null  float64\n",
            " 19  Age                   253680 non-null  float64\n",
            " 20  Education             253680 non-null  float64\n",
            " 21  Income                253680 non-null  float64\n",
            "dtypes: float64(22)\n",
            "memory usage: 42.6 MB\n"
          ]
        }
      ]
    },
    {
      "cell_type": "markdown",
      "source": [
        "- All the variables are in a continous kind of datatype."
      ],
      "metadata": {
        "id": "pwVKdxX1zpkp"
      }
    },
    {
      "cell_type": "markdown",
      "source": [
        "# 3.) Data preparation\n"
      ],
      "metadata": {
        "id": "ORdcNLpG0AUx"
      }
    },
    {
      "cell_type": "code",
      "source": [
        "# checking for duplicate data\n",
        "df.duplicated().sum()"
      ],
      "metadata": {
        "id": "cfzWFXphC_qY",
        "colab": {
          "base_uri": "https://localhost:8080/"
        },
        "outputId": "465da5fa-0892-48cd-e06c-632ac0920e99"
      },
      "execution_count": 7,
      "outputs": [
        {
          "output_type": "execute_result",
          "data": {
            "text/plain": [
              "24206"
            ]
          },
          "metadata": {},
          "execution_count": 7
        }
      ]
    },
    {
      "cell_type": "markdown",
      "source": [
        "- The number of duplicated data as observed above will be dropped in order to improve the accuracy of our model"
      ],
      "metadata": {
        "id": "9dddZ5Hl0S1p"
      }
    },
    {
      "cell_type": "code",
      "source": [
        "# dropping duplicated values\n",
        "df = df.drop_duplicates()\n",
        "df.duplicated().sum()\n",
        "# duplicates have been removed"
      ],
      "metadata": {
        "id": "9qCB5fmv0uPM",
        "colab": {
          "base_uri": "https://localhost:8080/"
        },
        "outputId": "1e1885a4-b94b-4f26-e90b-8db69d64a12e"
      },
      "execution_count": 8,
      "outputs": [
        {
          "output_type": "execute_result",
          "data": {
            "text/plain": [
              "0"
            ]
          },
          "metadata": {},
          "execution_count": 8
        }
      ]
    },
    {
      "cell_type": "code",
      "source": [
        "# ccheck data size after\n",
        "df.shape"
      ],
      "metadata": {
        "id": "syZbtbli3oF_",
        "colab": {
          "base_uri": "https://localhost:8080/"
        },
        "outputId": "9e16f12b-b547-4e80-9813-72092258d625"
      },
      "execution_count": 9,
      "outputs": [
        {
          "output_type": "execute_result",
          "data": {
            "text/plain": [
              "(229474, 22)"
            ]
          },
          "metadata": {},
          "execution_count": 9
        }
      ]
    },
    {
      "cell_type": "code",
      "source": [
        "# converting the columns values from float to integer\n",
        "df = df.astype(int)\n",
        "df.dtypes"
      ],
      "metadata": {
        "id": "cfZzxALBmCTN",
        "colab": {
          "base_uri": "https://localhost:8080/"
        },
        "outputId": "edadff00-6169-4242-ad7b-cbc96d749f66"
      },
      "execution_count": 10,
      "outputs": [
        {
          "output_type": "execute_result",
          "data": {
            "text/plain": [
              "Diabetes_binary         int64\n",
              "HighBP                  int64\n",
              "HighChol                int64\n",
              "CholCheck               int64\n",
              "BMI                     int64\n",
              "Smoker                  int64\n",
              "Stroke                  int64\n",
              "HeartDiseaseorAttack    int64\n",
              "PhysActivity            int64\n",
              "Fruits                  int64\n",
              "Veggies                 int64\n",
              "HvyAlcoholConsump       int64\n",
              "AnyHealthcare           int64\n",
              "NoDocbcCost             int64\n",
              "GenHlth                 int64\n",
              "MentHlth                int64\n",
              "PhysHlth                int64\n",
              "DiffWalk                int64\n",
              "Sex                     int64\n",
              "Age                     int64\n",
              "Education               int64\n",
              "Income                  int64\n",
              "dtype: object"
            ]
          },
          "metadata": {},
          "execution_count": 10
        }
      ]
    },
    {
      "cell_type": "code",
      "source": [
        "# checking for anomalies\n",
        "for i in df:\n",
        "  print(str(i),':', df[i].unique())"
      ],
      "metadata": {
        "id": "hCRlGTgMZeAY",
        "colab": {
          "base_uri": "https://localhost:8080/"
        },
        "outputId": "0f677911-d848-4579-f81e-4619d1bf7124"
      },
      "execution_count": 11,
      "outputs": [
        {
          "output_type": "stream",
          "name": "stdout",
          "text": [
            "Diabetes_binary : [0 1]\n",
            "HighBP : [1 0]\n",
            "HighChol : [1 0]\n",
            "CholCheck : [1 0]\n",
            "BMI : [40 25 28 27 24 30 34 26 33 21 23 22 38 32 37 31 29 20 35 45 39 19 47 18\n",
            " 36 43 55 49 42 17 16 41 44 50 59 48 52 46 54 57 53 14 15 51 58 63 61 56\n",
            " 74 62 64 66 73 85 60 67 65 70 82 79 92 68 72 88 96 13 81 71 75 12 77 69\n",
            " 76 87 89 84 95 98 91 86 83 80 90 78]\n",
            "Smoker : [1 0]\n",
            "Stroke : [0 1]\n",
            "HeartDiseaseorAttack : [0 1]\n",
            "PhysActivity : [0 1]\n",
            "Fruits : [0 1]\n",
            "Veggies : [1 0]\n",
            "HvyAlcoholConsump : [0 1]\n",
            "AnyHealthcare : [1 0]\n",
            "NoDocbcCost : [0 1]\n",
            "GenHlth : [5 3 2 4 1]\n",
            "MentHlth : [18  0 30  3  5 15 10  6 20  2 25  1  4  7  8 21 14 26 29 16 28 11 12 24\n",
            " 17 13 27 19 22  9 23]\n",
            "PhysHlth : [15  0 30  2 14 28  7 20  3 10  1  5 17  4 19  6 12 25 27 21 22  8 29 24\n",
            "  9 16 18 23 13 26 11]\n",
            "DiffWalk : [1 0]\n",
            "Sex : [0 1]\n",
            "Age : [ 9  7 11 10  8 13  4  6  2 12  5  1  3]\n",
            "Education : [4 6 3 5 2 1]\n",
            "Income : [3 1 8 6 4 7 2 5]\n"
          ]
        }
      ]
    },
    {
      "cell_type": "code",
      "source": [
        "# checking for count of unique values\n",
        "print('Number of unique values:\\n\\n',df.nunique())\n",
        "df1 = pd.DataFrame(data = df.nunique(),columns=['Number of unique values'])\n",
        "df1\n",
        "df2 = df1[df1['Number of unique values'] == 2]\n",
        "\n",
        "print('\\n\\nDataframe comprising binary elements:',len(df2))\n",
        "df2 # Dataframe containing variables and their count of unique values\n"
      ],
      "metadata": {
        "id": "Tr9QPFK466Is",
        "colab": {
          "base_uri": "https://localhost:8080/",
          "height": 1000
        },
        "outputId": "b1211167-e759-4e4e-e4c2-cbb6434e8c00"
      },
      "execution_count": 12,
      "outputs": [
        {
          "output_type": "stream",
          "name": "stdout",
          "text": [
            "Number of unique values:\n",
            "\n",
            " Diabetes_binary          2\n",
            "HighBP                   2\n",
            "HighChol                 2\n",
            "CholCheck                2\n",
            "BMI                     84\n",
            "Smoker                   2\n",
            "Stroke                   2\n",
            "HeartDiseaseorAttack     2\n",
            "PhysActivity             2\n",
            "Fruits                   2\n",
            "Veggies                  2\n",
            "HvyAlcoholConsump        2\n",
            "AnyHealthcare            2\n",
            "NoDocbcCost              2\n",
            "GenHlth                  5\n",
            "MentHlth                31\n",
            "PhysHlth                31\n",
            "DiffWalk                 2\n",
            "Sex                      2\n",
            "Age                     13\n",
            "Education                6\n",
            "Income                   8\n",
            "dtype: int64\n",
            "\n",
            "\n",
            "Dataframe comprising binary elements: 15\n"
          ]
        },
        {
          "output_type": "execute_result",
          "data": {
            "text/html": [
              "\n",
              "  <div id=\"df-eafdaf2d-a2a0-4227-a4dc-e4ad95e5a25c\">\n",
              "    <div class=\"colab-df-container\">\n",
              "      <div>\n",
              "<style scoped>\n",
              "    .dataframe tbody tr th:only-of-type {\n",
              "        vertical-align: middle;\n",
              "    }\n",
              "\n",
              "    .dataframe tbody tr th {\n",
              "        vertical-align: top;\n",
              "    }\n",
              "\n",
              "    .dataframe thead th {\n",
              "        text-align: right;\n",
              "    }\n",
              "</style>\n",
              "<table border=\"1\" class=\"dataframe\">\n",
              "  <thead>\n",
              "    <tr style=\"text-align: right;\">\n",
              "      <th></th>\n",
              "      <th>Number of unique values</th>\n",
              "    </tr>\n",
              "  </thead>\n",
              "  <tbody>\n",
              "    <tr>\n",
              "      <th>Diabetes_binary</th>\n",
              "      <td>2</td>\n",
              "    </tr>\n",
              "    <tr>\n",
              "      <th>HighBP</th>\n",
              "      <td>2</td>\n",
              "    </tr>\n",
              "    <tr>\n",
              "      <th>HighChol</th>\n",
              "      <td>2</td>\n",
              "    </tr>\n",
              "    <tr>\n",
              "      <th>CholCheck</th>\n",
              "      <td>2</td>\n",
              "    </tr>\n",
              "    <tr>\n",
              "      <th>Smoker</th>\n",
              "      <td>2</td>\n",
              "    </tr>\n",
              "    <tr>\n",
              "      <th>Stroke</th>\n",
              "      <td>2</td>\n",
              "    </tr>\n",
              "    <tr>\n",
              "      <th>HeartDiseaseorAttack</th>\n",
              "      <td>2</td>\n",
              "    </tr>\n",
              "    <tr>\n",
              "      <th>PhysActivity</th>\n",
              "      <td>2</td>\n",
              "    </tr>\n",
              "    <tr>\n",
              "      <th>Fruits</th>\n",
              "      <td>2</td>\n",
              "    </tr>\n",
              "    <tr>\n",
              "      <th>Veggies</th>\n",
              "      <td>2</td>\n",
              "    </tr>\n",
              "    <tr>\n",
              "      <th>HvyAlcoholConsump</th>\n",
              "      <td>2</td>\n",
              "    </tr>\n",
              "    <tr>\n",
              "      <th>AnyHealthcare</th>\n",
              "      <td>2</td>\n",
              "    </tr>\n",
              "    <tr>\n",
              "      <th>NoDocbcCost</th>\n",
              "      <td>2</td>\n",
              "    </tr>\n",
              "    <tr>\n",
              "      <th>DiffWalk</th>\n",
              "      <td>2</td>\n",
              "    </tr>\n",
              "    <tr>\n",
              "      <th>Sex</th>\n",
              "      <td>2</td>\n",
              "    </tr>\n",
              "  </tbody>\n",
              "</table>\n",
              "</div>\n",
              "      <button class=\"colab-df-convert\" onclick=\"convertToInteractive('df-eafdaf2d-a2a0-4227-a4dc-e4ad95e5a25c')\"\n",
              "              title=\"Convert this dataframe to an interactive table.\"\n",
              "              style=\"display:none;\">\n",
              "        \n",
              "  <svg xmlns=\"http://www.w3.org/2000/svg\" height=\"24px\"viewBox=\"0 0 24 24\"\n",
              "       width=\"24px\">\n",
              "    <path d=\"M0 0h24v24H0V0z\" fill=\"none\"/>\n",
              "    <path d=\"M18.56 5.44l.94 2.06.94-2.06 2.06-.94-2.06-.94-.94-2.06-.94 2.06-2.06.94zm-11 1L8.5 8.5l.94-2.06 2.06-.94-2.06-.94L8.5 2.5l-.94 2.06-2.06.94zm10 10l.94 2.06.94-2.06 2.06-.94-2.06-.94-.94-2.06-.94 2.06-2.06.94z\"/><path d=\"M17.41 7.96l-1.37-1.37c-.4-.4-.92-.59-1.43-.59-.52 0-1.04.2-1.43.59L10.3 9.45l-7.72 7.72c-.78.78-.78 2.05 0 2.83L4 21.41c.39.39.9.59 1.41.59.51 0 1.02-.2 1.41-.59l7.78-7.78 2.81-2.81c.8-.78.8-2.07 0-2.86zM5.41 20L4 18.59l7.72-7.72 1.47 1.35L5.41 20z\"/>\n",
              "  </svg>\n",
              "      </button>\n",
              "      \n",
              "  <style>\n",
              "    .colab-df-container {\n",
              "      display:flex;\n",
              "      flex-wrap:wrap;\n",
              "      gap: 12px;\n",
              "    }\n",
              "\n",
              "    .colab-df-convert {\n",
              "      background-color: #E8F0FE;\n",
              "      border: none;\n",
              "      border-radius: 50%;\n",
              "      cursor: pointer;\n",
              "      display: none;\n",
              "      fill: #1967D2;\n",
              "      height: 32px;\n",
              "      padding: 0 0 0 0;\n",
              "      width: 32px;\n",
              "    }\n",
              "\n",
              "    .colab-df-convert:hover {\n",
              "      background-color: #E2EBFA;\n",
              "      box-shadow: 0px 1px 2px rgba(60, 64, 67, 0.3), 0px 1px 3px 1px rgba(60, 64, 67, 0.15);\n",
              "      fill: #174EA6;\n",
              "    }\n",
              "\n",
              "    [theme=dark] .colab-df-convert {\n",
              "      background-color: #3B4455;\n",
              "      fill: #D2E3FC;\n",
              "    }\n",
              "\n",
              "    [theme=dark] .colab-df-convert:hover {\n",
              "      background-color: #434B5C;\n",
              "      box-shadow: 0px 1px 3px 1px rgba(0, 0, 0, 0.15);\n",
              "      filter: drop-shadow(0px 1px 2px rgba(0, 0, 0, 0.3));\n",
              "      fill: #FFFFFF;\n",
              "    }\n",
              "  </style>\n",
              "\n",
              "      <script>\n",
              "        const buttonEl =\n",
              "          document.querySelector('#df-eafdaf2d-a2a0-4227-a4dc-e4ad95e5a25c button.colab-df-convert');\n",
              "        buttonEl.style.display =\n",
              "          google.colab.kernel.accessAllowed ? 'block' : 'none';\n",
              "\n",
              "        async function convertToInteractive(key) {\n",
              "          const element = document.querySelector('#df-eafdaf2d-a2a0-4227-a4dc-e4ad95e5a25c');\n",
              "          const dataTable =\n",
              "            await google.colab.kernel.invokeFunction('convertToInteractive',\n",
              "                                                     [key], {});\n",
              "          if (!dataTable) return;\n",
              "\n",
              "          const docLinkHtml = 'Like what you see? Visit the ' +\n",
              "            '<a target=\"_blank\" href=https://colab.research.google.com/notebooks/data_table.ipynb>data table notebook</a>'\n",
              "            + ' to learn more about interactive tables.';\n",
              "          element.innerHTML = '';\n",
              "          dataTable['output_type'] = 'display_data';\n",
              "          await google.colab.output.renderOutput(dataTable, element);\n",
              "          const docLink = document.createElement('div');\n",
              "          docLink.innerHTML = docLinkHtml;\n",
              "          element.appendChild(docLink);\n",
              "        }\n",
              "      </script>\n",
              "    </div>\n",
              "  </div>\n",
              "  "
            ],
            "text/plain": [
              "                      Number of unique values\n",
              "Diabetes_binary                             2\n",
              "HighBP                                      2\n",
              "HighChol                                    2\n",
              "CholCheck                                   2\n",
              "Smoker                                      2\n",
              "Stroke                                      2\n",
              "HeartDiseaseorAttack                        2\n",
              "PhysActivity                                2\n",
              "Fruits                                      2\n",
              "Veggies                                     2\n",
              "HvyAlcoholConsump                           2\n",
              "AnyHealthcare                               2\n",
              "NoDocbcCost                                 2\n",
              "DiffWalk                                    2\n",
              "Sex                                         2"
            ]
          },
          "metadata": {},
          "execution_count": 12
        }
      ]
    },
    {
      "cell_type": "markdown",
      "source": [
        "- 15 out of 22 variables are binary "
      ],
      "metadata": {
        "id": "s9pqW2oz61bo"
      }
    },
    {
      "cell_type": "code",
      "source": [
        "#checking for null value\n",
        "df.isna().sum() "
      ],
      "metadata": {
        "id": "aivutfUhDSe4",
        "colab": {
          "base_uri": "https://localhost:8080/"
        },
        "outputId": "456ffb8e-6a86-474b-ad73-72a899ebbf36"
      },
      "execution_count": 13,
      "outputs": [
        {
          "output_type": "execute_result",
          "data": {
            "text/plain": [
              "Diabetes_binary         0\n",
              "HighBP                  0\n",
              "HighChol                0\n",
              "CholCheck               0\n",
              "BMI                     0\n",
              "Smoker                  0\n",
              "Stroke                  0\n",
              "HeartDiseaseorAttack    0\n",
              "PhysActivity            0\n",
              "Fruits                  0\n",
              "Veggies                 0\n",
              "HvyAlcoholConsump       0\n",
              "AnyHealthcare           0\n",
              "NoDocbcCost             0\n",
              "GenHlth                 0\n",
              "MentHlth                0\n",
              "PhysHlth                0\n",
              "DiffWalk                0\n",
              "Sex                     0\n",
              "Age                     0\n",
              "Education               0\n",
              "Income                  0\n",
              "dtype: int64"
            ]
          },
          "metadata": {},
          "execution_count": 13
        }
      ]
    },
    {
      "cell_type": "markdown",
      "source": [
        "- There are no null values meaning there's no missing data in our dataset. "
      ],
      "metadata": {
        "id": "XaQEOk56jF6u"
      }
    },
    {
      "cell_type": "code",
      "source": [
        "df.columns"
      ],
      "metadata": {
        "id": "hqqLvkWzJo_4",
        "colab": {
          "base_uri": "https://localhost:8080/"
        },
        "outputId": "c9d86b32-66f8-4453-f66c-1a5e096467c3"
      },
      "execution_count": 14,
      "outputs": [
        {
          "output_type": "execute_result",
          "data": {
            "text/plain": [
              "Index(['Diabetes_binary', 'HighBP', 'HighChol', 'CholCheck', 'BMI', 'Smoker',\n",
              "       'Stroke', 'HeartDiseaseorAttack', 'PhysActivity', 'Fruits', 'Veggies',\n",
              "       'HvyAlcoholConsump', 'AnyHealthcare', 'NoDocbcCost', 'GenHlth',\n",
              "       'MentHlth', 'PhysHlth', 'DiffWalk', 'Sex', 'Age', 'Education',\n",
              "       'Income'],\n",
              "      dtype='object')"
            ]
          },
          "metadata": {},
          "execution_count": 14
        }
      ]
    },
    {
      "cell_type": "code",
      "source": [
        "# Checking for outliers and dropping the binary variables\n",
        "cols = df[['BMI','GenHlth','MentHlth', 'PhysHlth','Age', 'Education','Income']]\n",
        "\n",
        "plt.figure(figsize=(10,20))\n",
        "cols.boxplot(figsize=(10, 10), fontsize=10)\n"
      ],
      "metadata": {
        "id": "zn1mGoROmBPo",
        "colab": {
          "base_uri": "https://localhost:8080/",
          "height": 1000
        },
        "outputId": "3bd2209e-d63b-4557-cbd7-d2abd8854939"
      },
      "execution_count": 15,
      "outputs": [
        {
          "output_type": "execute_result",
          "data": {
            "text/plain": [
              "<matplotlib.axes._subplots.AxesSubplot at 0x7f36eeaeff50>"
            ]
          },
          "metadata": {},
          "execution_count": 15
        },
        {
          "output_type": "display_data",
          "data": {
            "image/png": "[encoded data removed]",
            "text/plain": [
              "<Figure size 720x1440 with 1 Axes>"
            ]
          },
          "metadata": {
            "needs_background": "light"
          }
        }
      ]
    },
    {
      "cell_type": "markdown",
      "source": [
        "- BMI has the most outliers. General,Physical and Mental health also have outliers.\n",
        "- However we shall not get rid of them as they play a huge part in finding our solution."
      ],
      "metadata": {
        "id": "sG5QcBIrnoBJ"
      }
    },
    {
      "cell_type": "markdown",
      "source": [
        "#4.) Exploratory Data Analysis"
      ],
      "metadata": {
        "id": "tiFnqD4hy6yM"
      }
    },
    {
      "cell_type": "markdown",
      "source": [
        "####a). Univariate analysis"
      ],
      "metadata": {
        "id": "7an97rQ4zBXf"
      }
    },
    {
      "cell_type": "code",
      "source": [
        "#checking for summary statistics\n",
        "df.describe().T"
      ],
      "metadata": {
        "id": "We60ZKYSaz67",
        "colab": {
          "base_uri": "https://localhost:8080/",
          "height": 739
        },
        "outputId": "a58b7352-fb69-4af6-c62a-ebf4e8f1b80f"
      },
      "execution_count": 16,
      "outputs": [
        {
          "output_type": "execute_result",
          "data": {
            "text/html": [
              "\n",
              "  <div id=\"df-f11bb973-9dd0-4984-99ec-46c31665218b\">\n",
              "    <div class=\"colab-df-container\">\n",
              "      <div>\n",
              "<style scoped>\n",
              "    .dataframe tbody tr th:only-of-type {\n",
              "        vertical-align: middle;\n",
              "    }\n",
              "\n",
              "    .dataframe tbody tr th {\n",
              "        vertical-align: top;\n",
              "    }\n",
              "\n",
              "    .dataframe thead th {\n",
              "        text-align: right;\n",
              "    }\n",
              "</style>\n",
              "<table border=\"1\" class=\"dataframe\">\n",
              "  <thead>\n",
              "    <tr style=\"text-align: right;\">\n",
              "      <th></th>\n",
              "      <th>count</th>\n",
              "      <th>mean</th>\n",
              "      <th>std</th>\n",
              "      <th>min</th>\n",
              "      <th>25%</th>\n",
              "      <th>50%</th>\n",
              "      <th>75%</th>\n",
              "      <th>max</th>\n",
              "    </tr>\n",
              "  </thead>\n",
              "  <tbody>\n",
              "    <tr>\n",
              "      <th>Diabetes_binary</th>\n",
              "      <td>229474.0</td>\n",
              "      <td>0.152945</td>\n",
              "      <td>0.359936</td>\n",
              "      <td>0.0</td>\n",
              "      <td>0.0</td>\n",
              "      <td>0.0</td>\n",
              "      <td>0.0</td>\n",
              "      <td>1.0</td>\n",
              "    </tr>\n",
              "    <tr>\n",
              "      <th>HighBP</th>\n",
              "      <td>229474.0</td>\n",
              "      <td>0.454343</td>\n",
              "      <td>0.497912</td>\n",
              "      <td>0.0</td>\n",
              "      <td>0.0</td>\n",
              "      <td>0.0</td>\n",
              "      <td>1.0</td>\n",
              "      <td>1.0</td>\n",
              "    </tr>\n",
              "    <tr>\n",
              "      <th>HighChol</th>\n",
              "      <td>229474.0</td>\n",
              "      <td>0.441640</td>\n",
              "      <td>0.496584</td>\n",
              "      <td>0.0</td>\n",
              "      <td>0.0</td>\n",
              "      <td>0.0</td>\n",
              "      <td>1.0</td>\n",
              "      <td>1.0</td>\n",
              "    </tr>\n",
              "    <tr>\n",
              "      <th>CholCheck</th>\n",
              "      <td>229474.0</td>\n",
              "      <td>0.959481</td>\n",
              "      <td>0.197173</td>\n",
              "      <td>0.0</td>\n",
              "      <td>1.0</td>\n",
              "      <td>1.0</td>\n",
              "      <td>1.0</td>\n",
              "      <td>1.0</td>\n",
              "    </tr>\n",
              "    <tr>\n",
              "      <th>BMI</th>\n",
              "      <td>229474.0</td>\n",
              "      <td>28.687507</td>\n",
              "      <td>6.789204</td>\n",
              "      <td>12.0</td>\n",
              "      <td>24.0</td>\n",
              "      <td>27.0</td>\n",
              "      <td>32.0</td>\n",
              "      <td>98.0</td>\n",
              "    </tr>\n",
              "    <tr>\n",
              "      <th>Smoker</th>\n",
              "      <td>229474.0</td>\n",
              "      <td>0.465800</td>\n",
              "      <td>0.498830</td>\n",
              "      <td>0.0</td>\n",
              "      <td>0.0</td>\n",
              "      <td>0.0</td>\n",
              "      <td>1.0</td>\n",
              "      <td>1.0</td>\n",
              "    </tr>\n",
              "    <tr>\n",
              "      <th>Stroke</th>\n",
              "      <td>229474.0</td>\n",
              "      <td>0.044816</td>\n",
              "      <td>0.206899</td>\n",
              "      <td>0.0</td>\n",
              "      <td>0.0</td>\n",
              "      <td>0.0</td>\n",
              "      <td>0.0</td>\n",
              "      <td>1.0</td>\n",
              "    </tr>\n",
              "    <tr>\n",
              "      <th>HeartDiseaseorAttack</th>\n",
              "      <td>229474.0</td>\n",
              "      <td>0.103336</td>\n",
              "      <td>0.304398</td>\n",
              "      <td>0.0</td>\n",
              "      <td>0.0</td>\n",
              "      <td>0.0</td>\n",
              "      <td>0.0</td>\n",
              "      <td>1.0</td>\n",
              "    </tr>\n",
              "    <tr>\n",
              "      <th>PhysActivity</th>\n",
              "      <td>229474.0</td>\n",
              "      <td>0.733042</td>\n",
              "      <td>0.442371</td>\n",
              "      <td>0.0</td>\n",
              "      <td>0.0</td>\n",
              "      <td>1.0</td>\n",
              "      <td>1.0</td>\n",
              "      <td>1.0</td>\n",
              "    </tr>\n",
              "    <tr>\n",
              "      <th>Fruits</th>\n",
              "      <td>229474.0</td>\n",
              "      <td>0.612675</td>\n",
              "      <td>0.487140</td>\n",
              "      <td>0.0</td>\n",
              "      <td>0.0</td>\n",
              "      <td>1.0</td>\n",
              "      <td>1.0</td>\n",
              "      <td>1.0</td>\n",
              "    </tr>\n",
              "    <tr>\n",
              "      <th>Veggies</th>\n",
              "      <td>229474.0</td>\n",
              "      <td>0.794587</td>\n",
              "      <td>0.404004</td>\n",
              "      <td>0.0</td>\n",
              "      <td>1.0</td>\n",
              "      <td>1.0</td>\n",
              "      <td>1.0</td>\n",
              "      <td>1.0</td>\n",
              "    </tr>\n",
              "    <tr>\n",
              "      <th>HvyAlcoholConsump</th>\n",
              "      <td>229474.0</td>\n",
              "      <td>0.060791</td>\n",
              "      <td>0.238947</td>\n",
              "      <td>0.0</td>\n",
              "      <td>0.0</td>\n",
              "      <td>0.0</td>\n",
              "      <td>0.0</td>\n",
              "      <td>1.0</td>\n",
              "    </tr>\n",
              "    <tr>\n",
              "      <th>AnyHealthcare</th>\n",
              "      <td>229474.0</td>\n",
              "      <td>0.946011</td>\n",
              "      <td>0.225996</td>\n",
              "      <td>0.0</td>\n",
              "      <td>1.0</td>\n",
              "      <td>1.0</td>\n",
              "      <td>1.0</td>\n",
              "      <td>1.0</td>\n",
              "    </tr>\n",
              "    <tr>\n",
              "      <th>NoDocbcCost</th>\n",
              "      <td>229474.0</td>\n",
              "      <td>0.092921</td>\n",
              "      <td>0.290323</td>\n",
              "      <td>0.0</td>\n",
              "      <td>0.0</td>\n",
              "      <td>0.0</td>\n",
              "      <td>0.0</td>\n",
              "      <td>1.0</td>\n",
              "    </tr>\n",
              "    <tr>\n",
              "      <th>GenHlth</th>\n",
              "      <td>229474.0</td>\n",
              "      <td>2.601820</td>\n",
              "      <td>1.064962</td>\n",
              "      <td>1.0</td>\n",
              "      <td>2.0</td>\n",
              "      <td>3.0</td>\n",
              "      <td>3.0</td>\n",
              "      <td>5.0</td>\n",
              "    </tr>\n",
              "    <tr>\n",
              "      <th>MentHlth</th>\n",
              "      <td>229474.0</td>\n",
              "      <td>3.509866</td>\n",
              "      <td>7.717643</td>\n",
              "      <td>0.0</td>\n",
              "      <td>0.0</td>\n",
              "      <td>0.0</td>\n",
              "      <td>2.0</td>\n",
              "      <td>30.0</td>\n",
              "    </tr>\n",
              "    <tr>\n",
              "      <th>PhysHlth</th>\n",
              "      <td>229474.0</td>\n",
              "      <td>4.681219</td>\n",
              "      <td>9.050877</td>\n",
              "      <td>0.0</td>\n",
              "      <td>0.0</td>\n",
              "      <td>0.0</td>\n",
              "      <td>4.0</td>\n",
              "      <td>30.0</td>\n",
              "    </tr>\n",
              "    <tr>\n",
              "      <th>DiffWalk</th>\n",
              "      <td>229474.0</td>\n",
              "      <td>0.185751</td>\n",
              "      <td>0.388906</td>\n",
              "      <td>0.0</td>\n",
              "      <td>0.0</td>\n",
              "      <td>0.0</td>\n",
              "      <td>0.0</td>\n",
              "      <td>1.0</td>\n",
              "    </tr>\n",
              "    <tr>\n",
              "      <th>Sex</th>\n",
              "      <td>229474.0</td>\n",
              "      <td>0.439087</td>\n",
              "      <td>0.496277</td>\n",
              "      <td>0.0</td>\n",
              "      <td>0.0</td>\n",
              "      <td>0.0</td>\n",
              "      <td>1.0</td>\n",
              "      <td>1.0</td>\n",
              "    </tr>\n",
              "    <tr>\n",
              "      <th>Age</th>\n",
              "      <td>229474.0</td>\n",
              "      <td>8.085068</td>\n",
              "      <td>3.094451</td>\n",
              "      <td>1.0</td>\n",
              "      <td>6.0</td>\n",
              "      <td>8.0</td>\n",
              "      <td>10.0</td>\n",
              "      <td>13.0</td>\n",
              "    </tr>\n",
              "    <tr>\n",
              "      <th>Education</th>\n",
              "      <td>229474.0</td>\n",
              "      <td>4.979741</td>\n",
              "      <td>0.992989</td>\n",
              "      <td>1.0</td>\n",
              "      <td>4.0</td>\n",
              "      <td>5.0</td>\n",
              "      <td>6.0</td>\n",
              "      <td>6.0</td>\n",
              "    </tr>\n",
              "    <tr>\n",
              "      <th>Income</th>\n",
              "      <td>229474.0</td>\n",
              "      <td>5.888615</td>\n",
              "      <td>2.092888</td>\n",
              "      <td>1.0</td>\n",
              "      <td>4.0</td>\n",
              "      <td>6.0</td>\n",
              "      <td>8.0</td>\n",
              "      <td>8.0</td>\n",
              "    </tr>\n",
              "  </tbody>\n",
              "</table>\n",
              "</div>\n",
              "      <button class=\"colab-df-convert\" onclick=\"convertToInteractive('df-f11bb973-9dd0-4984-99ec-46c31665218b')\"\n",
              "              title=\"Convert this dataframe to an interactive table.\"\n",
              "              style=\"display:none;\">\n",
              "        \n",
              "  <svg xmlns=\"http://www.w3.org/2000/svg\" height=\"24px\"viewBox=\"0 0 24 24\"\n",
              "       width=\"24px\">\n",
              "    <path d=\"M0 0h24v24H0V0z\" fill=\"none\"/>\n",
              "    <path d=\"M18.56 5.44l.94 2.06.94-2.06 2.06-.94-2.06-.94-.94-2.06-.94 2.06-2.06.94zm-11 1L8.5 8.5l.94-2.06 2.06-.94-2.06-.94L8.5 2.5l-.94 2.06-2.06.94zm10 10l.94 2.06.94-2.06 2.06-.94-2.06-.94-.94-2.06-.94 2.06-2.06.94z\"/><path d=\"M17.41 7.96l-1.37-1.37c-.4-.4-.92-.59-1.43-.59-.52 0-1.04.2-1.43.59L10.3 9.45l-7.72 7.72c-.78.78-.78 2.05 0 2.83L4 21.41c.39.39.9.59 1.41.59.51 0 1.02-.2 1.41-.59l7.78-7.78 2.81-2.81c.8-.78.8-2.07 0-2.86zM5.41 20L4 18.59l7.72-7.72 1.47 1.35L5.41 20z\"/>\n",
              "  </svg>\n",
              "      </button>\n",
              "      \n",
              "  <style>\n",
              "    .colab-df-container {\n",
              "      display:flex;\n",
              "      flex-wrap:wrap;\n",
              "      gap: 12px;\n",
              "    }\n",
              "\n",
              "    .colab-df-convert {\n",
              "      background-color: #E8F0FE;\n",
              "      border: none;\n",
              "      border-radius: 50%;\n",
              "      cursor: pointer;\n",
              "      display: none;\n",
              "      fill: #1967D2;\n",
              "      height: 32px;\n",
              "      padding: 0 0 0 0;\n",
              "      width: 32px;\n",
              "    }\n",
              "\n",
              "    .colab-df-convert:hover {\n",
              "      background-color: #E2EBFA;\n",
              "      box-shadow: 0px 1px 2px rgba(60, 64, 67, 0.3), 0px 1px 3px 1px rgba(60, 64, 67, 0.15);\n",
              "      fill: #174EA6;\n",
              "    }\n",
              "\n",
              "    [theme=dark] .colab-df-convert {\n",
              "      background-color: #3B4455;\n",
              "      fill: #D2E3FC;\n",
              "    }\n",
              "\n",
              "    [theme=dark] .colab-df-convert:hover {\n",
              "      background-color: #434B5C;\n",
              "      box-shadow: 0px 1px 3px 1px rgba(0, 0, 0, 0.15);\n",
              "      filter: drop-shadow(0px 1px 2px rgba(0, 0, 0, 0.3));\n",
              "      fill: #FFFFFF;\n",
              "    }\n",
              "  </style>\n",
              "\n",
              "      <script>\n",
              "        const buttonEl =\n",
              "          document.querySelector('#df-f11bb973-9dd0-4984-99ec-46c31665218b button.colab-df-convert');\n",
              "        buttonEl.style.display =\n",
              "          google.colab.kernel.accessAllowed ? 'block' : 'none';\n",
              "\n",
              "        async function convertToInteractive(key) {\n",
              "          const element = document.querySelector('#df-f11bb973-9dd0-4984-99ec-46c31665218b');\n",
              "          const dataTable =\n",
              "            await google.colab.kernel.invokeFunction('convertToInteractive',\n",
              "                                                     [key], {});\n",
              "          if (!dataTable) return;\n",
              "\n",
              "          const docLinkHtml = 'Like what you see? Visit the ' +\n",
              "            '<a target=\"_blank\" href=https://colab.research.google.com/notebooks/data_table.ipynb>data table notebook</a>'\n",
              "            + ' to learn more about interactive tables.';\n",
              "          element.innerHTML = '';\n",
              "          dataTable['output_type'] = 'display_data';\n",
              "          await google.colab.output.renderOutput(dataTable, element);\n",
              "          const docLink = document.createElement('div');\n",
              "          docLink.innerHTML = docLinkHtml;\n",
              "          element.appendChild(docLink);\n",
              "        }\n",
              "      </script>\n",
              "    </div>\n",
              "  </div>\n",
              "  "
            ],
            "text/plain": [
              "                         count       mean       std  ...   50%   75%   max\n",
              "Diabetes_binary       229474.0   0.152945  0.359936  ...   0.0   0.0   1.0\n",
              "HighBP                229474.0   0.454343  0.497912  ...   0.0   1.0   1.0\n",
              "HighChol              229474.0   0.441640  0.496584  ...   0.0   1.0   1.0\n",
              "CholCheck             229474.0   0.959481  0.197173  ...   1.0   1.0   1.0\n",
              "BMI                   229474.0  28.687507  6.789204  ...  27.0  32.0  98.0\n",
              "Smoker                229474.0   0.465800  0.498830  ...   0.0   1.0   1.0\n",
              "Stroke                229474.0   0.044816  0.206899  ...   0.0   0.0   1.0\n",
              "HeartDiseaseorAttack  229474.0   0.103336  0.304398  ...   0.0   0.0   1.0\n",
              "PhysActivity          229474.0   0.733042  0.442371  ...   1.0   1.0   1.0\n",
              "Fruits                229474.0   0.612675  0.487140  ...   1.0   1.0   1.0\n",
              "Veggies               229474.0   0.794587  0.404004  ...   1.0   1.0   1.0\n",
              "HvyAlcoholConsump     229474.0   0.060791  0.238947  ...   0.0   0.0   1.0\n",
              "AnyHealthcare         229474.0   0.946011  0.225996  ...   1.0   1.0   1.0\n",
              "NoDocbcCost           229474.0   0.092921  0.290323  ...   0.0   0.0   1.0\n",
              "GenHlth               229474.0   2.601820  1.064962  ...   3.0   3.0   5.0\n",
              "MentHlth              229474.0   3.509866  7.717643  ...   0.0   2.0  30.0\n",
              "PhysHlth              229474.0   4.681219  9.050877  ...   0.0   4.0  30.0\n",
              "DiffWalk              229474.0   0.185751  0.388906  ...   0.0   0.0   1.0\n",
              "Sex                   229474.0   0.439087  0.496277  ...   0.0   1.0   1.0\n",
              "Age                   229474.0   8.085068  3.094451  ...   8.0  10.0  13.0\n",
              "Education             229474.0   4.979741  0.992989  ...   5.0   6.0   6.0\n",
              "Income                229474.0   5.888615  2.092888  ...   6.0   8.0   8.0\n",
              "\n",
              "[22 rows x 8 columns]"
            ]
          },
          "metadata": {},
          "execution_count": 16
        }
      ]
    },
    {
      "cell_type": "code",
      "source": [
        "# displaying the frequency of different variables\n",
        "df3 = df.drop(['BMI','MentHlth','PhysHlth'],axis=1)\n",
        "for a in df3:\n",
        "  sns.countplot(df[a])\n",
        "  plt.show()"
      ],
      "metadata": {
        "id": "boUNBRRDzVi4",
        "colab": {
          "base_uri": "https://localhost:8080/",
          "height": 1000
        },
        "outputId": "9e68dcd7-b313-414f-e657-e252e883b988"
      },
      "execution_count": 17,
      "outputs": [
        {
          "output_type": "display_data",
          "data": {
            "image/png": "[encoded data removed]",
            "text/plain": [
              "<Figure size 432x288 with 1 Axes>"
            ]
          },
          "metadata": {
            "needs_background": "light"
          }
        },
        {
          "output_type": "display_data",
          "data": {
            "image/png": "[encoded data removed]",
            "text/plain": [
              "<Figure size 432x288 with 1 Axes>"
            ]
          },
          "metadata": {
            "needs_background": "light"
          }
        },
        {
          "output_type": "display_data",
          "data": {
            "image/png": "[encoded data removed]",
            "text/plain": [
              "<Figure size 432x288 with 1 Axes>"
            ]
          },
          "metadata": {
            "needs_background": "light"
          }
        },
        {
          "output_type": "display_data",
          "data": {
            "image/png": "[encoded data removed]",
            "text/plain": [
              "<Figure size 432x288 with 1 Axes>"
            ]
          },
          "metadata": {
            "needs_background": "light"
          }
        },
        {
          "output_type": "display_data",
          "data": {
            "image/png": "[encoded data removed]",
            "text/plain": [
              "<Figure size 432x288 with 1 Axes>"
            ]
          },
          "metadata": {
            "needs_background": "light"
          }
        },
        {
          "output_type": "display_data",
          "data": {
            "image/png": "[encoded data removed]",
            "text/plain": [
              "<Figure size 432x288 with 1 Axes>"
            ]
          },
          "metadata": {
            "needs_background": "light"
          }
        },
        {
          "output_type": "display_data",
          "data": {
            "image/png": "[encoded data removed]",
            "text/plain": [
              "<Figure size 432x288 with 1 Axes>"
            ]
          },
          "metadata": {
            "needs_background": "light"
          }
        },
        {
          "output_type": "display_data",
          "data": {
            "image/png": "[encoded data removed]",
            "text/plain": [
              "<Figure size 432x288 with 1 Axes>"
            ]
          },
          "metadata": {
            "needs_background": "light"
          }
        },
        {
          "output_type": "display_data",
          "data": {
            "image/png": "[encoded data removed]",
            "text/plain": [
              "<Figure size 432x288 with 1 Axes>"
            ]
          },
          "metadata": {
            "needs_background": "light"
          }
        },
        {
          "output_type": "display_data",
          "data": {
            "image/png": "[encoded data removed]",
            "text/plain": [
              "<Figure size 432x288 with 1 Axes>"
            ]
          },
          "metadata": {
            "needs_background": "light"
          }
        },
        {
          "output_type": "display_data",
          "data": {
            "image/png": "[encoded data removed]",
            "text/plain": [
              "<Figure size 432x288 with 1 Axes>"
            ]
          },
          "metadata": {
            "needs_background": "light"
          }
        },
        {
          "output_type": "display_data",
          "data": {
            "image/png": "[encoded data removed]",
            "text/plain": [
              "<Figure size 432x288 with 1 Axes>"
            ]
          },
          "metadata": {
            "needs_background": "light"
          }
        },
        {
          "output_type": "display_data",
          "data": {
            "image/png": "[encoded data removed]",
            "text/plain": [
              "<Figure size 432x288 with 1 Axes>"
            ]
          },
          "metadata": {
            "needs_background": "light"
          }
        },
        {
          "output_type": "display_data",
          "data": {
            "image/png": "[encoded data removed]",
            "text/plain": [
              "<Figure size 432x288 with 1 Axes>"
            ]
          },
          "metadata": {
            "needs_background": "light"
          }
        },
        {
          "output_type": "display_data",
          "data": {
            "image/png": "[encoded data removed]",
            "text/plain": [
              "<Figure size 432x288 with 1 Axes>"
            ]
          },
          "metadata": {
            "needs_background": "light"
          }
        },
        {
          "output_type": "display_data",
          "data": {
            "image/png": "[encoded data removed]",
            "text/plain": [
              "<Figure size 432x288 with 1 Axes>"
            ]
          },
          "metadata": {
            "needs_background": "light"
          }
        },
        {
          "output_type": "display_data",
          "data": {
            "image/png": "[encoded data removed]",
            "text/plain": [
              "<Figure size 432x288 with 1 Axes>"
            ]
          },
          "metadata": {
            "needs_background": "light"
          }
        },
        {
          "output_type": "display_data",
          "data": {
            "image/png": "[encoded data removed]",
            "text/plain": [
              "<Figure size 432x288 with 1 Axes>"
            ]
          },
          "metadata": {
            "needs_background": "light"
          }
        },
        {
          "output_type": "display_data",
          "data": {
            "image/png": "[encoded data removed]",
            "text/plain": [
              "<Figure size 432x288 with 1 Axes>"
            ]
          },
          "metadata": {
            "needs_background": "light"
          }
        }
      ]
    },
    {
      "cell_type": "markdown",
      "source": [
        "- The charts show that there are more people without diabetes(binary 0) in our dataset compared to those with it(binary 1)\n",
        "- There's a higher number of people with HighBP compared to those without. Same goes for HighChol,Smoker,Stroke,Heart disease or attack,heavy alcohol consumption,no doc cost,diff walk and sex variables.\n",
        "- There's also a higher number of people who have had their cholesterol levels checked compared to those who haven't. \n",
        "- There's a higher number of people who do physical activities compared to those who don't. Same goes for those that eat fruits and vegetables and possessing any form of healthcare.\n",
        "- Respondents also seem to show a case of somewhat poor general health as most fall under a score of 2 out of 5.\n",
        "- Most respondents have the highest education and income in our dataset.\n",
        "\n",
        "- most respondents are  within the age  bracket of 10 Age (65 to 69)"
      ],
      "metadata": {
        "id": "XSdmJ5T287iy"
      }
    },
    {
      "cell_type": "code",
      "source": [
        "# determining the distribution of BMI\n",
        "# plt.figure(figsize=(10,10))\n",
        "plt.hist(df.BMI, bins = 20, color='green',edgecolor='white')\n",
        "plt.xlabel('BMI')\n",
        "plt.ylabel('Count')\n",
        "plt.title('BMI Distribution')"
      ],
      "metadata": {
        "id": "W2mAtYCP5J4r",
        "colab": {
          "base_uri": "https://localhost:8080/",
          "height": 318
        },
        "outputId": "82d8e74f-172e-43aa-e59e-e229f1c2bba8"
      },
      "execution_count": 18,
      "outputs": [
        {
          "output_type": "execute_result",
          "data": {
            "text/plain": [
              "Text(0.5, 1.0, 'BMI Distribution')"
            ]
          },
          "metadata": {},
          "execution_count": 18
        },
        {
          "output_type": "display_data",
          "data": {
            "image/png": "[encoded data removed]",
            "text/plain": [
              "<Figure size 432x288 with 1 Axes>"
            ]
          },
          "metadata": {
            "needs_background": "light"
          }
        }
      ]
    },
    {
      "cell_type": "markdown",
      "source": [
        "- The histogram shows that most people's BMI ranges between 20 and 40.\n",
        "- BMI of a healthy person ranges 18.5—24.9 ,while that of an underweight person falls below 18.5, that of an overweight person ranges from 25.0-29.9 and that of an obese person starts from 30 onwards.\n",
        "- The mean of 28.687507 from our summary statistics shows that their BMI falls within the healthy range"
      ],
      "metadata": {
        "id": "lfvmptOb6kmM"
      }
    },
    {
      "cell_type": "code",
      "source": [
        "# determining the distribution of BMI,mental health and physical health variables\n",
        "df4 = df[['MentHlth','PhysHlth']]\n",
        "\n",
        "plt.figure(figsize=(24,20))\n",
        "plt.suptitle('Distribution for mental and physical health',fontsize=30)\n",
        "plt.subplot(4, 2, 1)\n",
        "fig = df4.MentHlth.hist(bins=20)\n",
        "fig.set_xlabel('Mental Health Score')\n",
        "fig.set_ylabel('Count')\n",
        "\n",
        "\n",
        "plt.subplot(4, 2, 2)\n",
        "fig = df4.PhysHlth.hist(bins=20)\n",
        "fig.set_xlabel('Physical Health Score')\n",
        "fig.set_ylabel('Count')"
      ],
      "metadata": {
        "id": "qn7NVklp9kiP",
        "colab": {
          "base_uri": "https://localhost:8080/",
          "height": 424
        },
        "outputId": "3b1eb574-076d-4d5a-9e6a-592e0877b33b"
      },
      "execution_count": 19,
      "outputs": [
        {
          "output_type": "execute_result",
          "data": {
            "text/plain": [
              "Text(0, 0.5, 'Count')"
            ]
          },
          "metadata": {},
          "execution_count": 19
        },
        {
          "output_type": "display_data",
          "data": {
            "image/png": "[encoded data removed]",
            "text/plain": [
              "<Figure size 1728x1440 with 2 Axes>"
            ]
          },
          "metadata": {
            "needs_background": "light"
          }
        }
      ]
    },
    {
      "cell_type": "markdown",
      "source": [
        "- The Mini-Mental State Examination (MMSE) is a test that health care professionals give to someone who may have dementia(decline in mental ability that is severe enough to affect daily life). The MMSE is not the only test given to find out if someone has dementia, but is a test that is often used by health care providers to help measure short- and long-term memory, concentration and understanding of instructions. \n",
        "The MMSE has a maximum score of 30 points. The scores are generally grouped as follows:\n",
        "\n",
        "25-30 points: normal cognition\n",
        "21-24 points: mild dementia\n",
        "10-20 points: moderate dementia\n",
        "9 points or lower: severe dementia\n",
        "\n",
        "- The distribution of mental health is concentrated around zero meaning many respondents were not mentally healthy.\n",
        "- The physical health distribution shows a higher number of respondents having a score below 10 showing that most people are not physically healthy."
      ],
      "metadata": {
        "id": "LlMx39Vc2Aeq"
      }
    },
    {
      "cell_type": "markdown",
      "source": [
        "####b.) Bivariate Analysis"
      ],
      "metadata": {
        "id": "xcWISsENCCj8"
      }
    },
    {
      "cell_type": "code",
      "source": [
        "# creating a correlation matrix using heatmap\n",
        "plt.figure(figsize=(20,10))\n",
        "sns.heatmap(df.corr(),annot=True,cmap=\"Reds\",fmt=\".2f\");\n",
        "plt.show()"
      ],
      "metadata": {
        "id": "Uv_6b6mWGqOX",
        "colab": {
          "base_uri": "https://localhost:8080/",
          "height": 695
        },
        "outputId": "075e37a3-ad7e-460e-f2bb-81e79144c375"
      },
      "execution_count": 20,
      "outputs": [
        {
          "output_type": "display_data",
          "data": {
            "image/png": "[encoded data removed]",
            "text/plain": [
              "<Figure size 1440x720 with 2 Axes>"
            ]
          },
          "metadata": {
            "needs_background": "light"
          }
        }
      ]
    },
    {
      "cell_type": "markdown",
      "source": [
        "- From our matrix,we consider only correlations that are above 0.2 for Diabetes binary. Diabetes binary has a weak positive relationship with high BP(0.25),BMI(0.21),GenHlth(0.28) and diffwalk(0.21). Research studies have shown that walking can be beneficial in bringing down blood glucose and therefore improving diabetes control. \n",
        "- There's a strong positive correlation between genhelth and physhlth(0.52)\n",
        "- There's positive correlation between genhelth and diffwalk(0.45)\n",
        "- There's positive correlation between physhlth and diffwalk(0.47)\n",
        "- There's positive correlation between education and income(0.42)"
      ],
      "metadata": {
        "id": "TNT1xr-GL982"
      }
    },
    {
      "cell_type": "code",
      "source": [
        "# plotting target variable against independent variables to see relationships\n",
        "df5 = df[['HighBP', 'HighChol', 'CholCheck', 'Smoker',\n",
        "       'Stroke', 'HeartDiseaseorAttack', 'PhysActivity', 'Fruits', 'Veggies',\n",
        "       'HvyAlcoholConsump', 'AnyHealthcare', 'NoDocbcCost', 'GenHlth',\n",
        "       'DiffWalk', 'Sex', 'Age', 'Education',\n",
        "       'Income']] #dataframe for categorical variables \n",
        "for r in df5:\n",
        "  plt.figure(figsize=(10,6))\n",
        "  sns.countplot(x=df[r], hue='Diabetes_binary', data=df, palette='RdBu')\n",
        "  plt.show()\n"
      ],
      "metadata": {
        "id": "wiZ485YUTE_s",
        "colab": {
          "base_uri": "https://localhost:8080/",
          "height": 1000
        },
        "outputId": "48b31fdc-fc26-41b6-9b2b-26fb211b0b16"
      },
      "execution_count": 21,
      "outputs": [
        {
          "output_type": "display_data",
          "data": {
            "image/png": "[encoded data removed]",
            "text/plain": [
              "<Figure size 720x432 with 1 Axes>"
            ]
          },
          "metadata": {
            "needs_background": "light"
          }
        },
        {
          "output_type": "display_data",
          "data": {
            "image/png": "[encoded data removed]",
            "text/plain": [
              "<Figure size 720x432 with 1 Axes>"
            ]
          },
          "metadata": {
            "needs_background": "light"
          }
        },
        {
          "output_type": "display_data",
          "data": {
            "image/png": "[encoded data removed]",
            "text/plain": [
              "<Figure size 720x432 with 1 Axes>"
            ]
          },
          "metadata": {
            "needs_background": "light"
          }
        },
        {
          "output_type": "display_data",
          "data": {
            "image/png": "[encoded data removed]",
            "text/plain": [
              "<Figure size 720x432 with 1 Axes>"
            ]
          },
          "metadata": {
            "needs_background": "light"
          }
        },
        {
          "output_type": "display_data",
          "data": {
            "image/png": "[encoded data removed]",
            "text/plain": [
              "<Figure size 720x432 with 1 Axes>"
            ]
          },
          "metadata": {
            "needs_background": "light"
          }
        },
        {
          "output_type": "display_data",
          "data": {
            "image/png": "[encoded data removed]",
            "text/plain": [
              "<Figure size 720x432 with 1 Axes>"
            ]
          },
          "metadata": {
            "needs_background": "light"
          }
        },
        {
          "output_type": "display_data",
          "data": {
            "image/png": "[encoded data removed]",
            "text/plain": [
              "<Figure size 720x432 with 1 Axes>"
            ]
          },
          "metadata": {
            "needs_background": "light"
          }
        },
        {
          "output_type": "display_data",
          "data": {
            "image/png": "[encoded data removed]",
            "text/plain": [
              "<Figure size 720x432 with 1 Axes>"
            ]
          },
          "metadata": {
            "needs_background": "light"
          }
        },
        {
          "output_type": "display_data",
          "data": {
            "image/png": "[encoded data removed]",
            "text/plain": [
              "<Figure size 720x432 with 1 Axes>"
            ]
          },
          "metadata": {
            "needs_background": "light"
          }
        },
        {
          "output_type": "display_data",
          "data": {
            "image/png": "[encoded data removed]",
            "text/plain": [
              "<Figure size 720x432 with 1 Axes>"
            ]
          },
          "metadata": {
            "needs_background": "light"
          }
        },
        {
          "output_type": "display_data",
          "data": {
            "image/png": "[encoded data removed]",
            "text/plain": [
              "<Figure size 720x432 with 1 Axes>"
            ]
          },
          "metadata": {
            "needs_background": "light"
          }
        },
        {
          "output_type": "display_data",
          "data": {
            "image/png": "[encoded data removed]",
            "text/plain": [
              "<Figure size 720x432 with 1 Axes>"
            ]
          },
          "metadata": {
            "needs_background": "light"
          }
        },
        {
          "output_type": "display_data",
          "data": {
            "image/png": "[encoded data removed]",
            "text/plain": [
              "<Figure size 720x432 with 1 Axes>"
            ]
          },
          "metadata": {
            "needs_background": "light"
          }
        },
        {
          "output_type": "display_data",
          "data": {
            "image/png": "[encoded data removed]",
            "text/plain": [
              "<Figure size 720x432 with 1 Axes>"
            ]
          },
          "metadata": {
            "needs_background": "light"
          }
        },
        {
          "output_type": "display_data",
          "data": {
            "image/png": "[encoded data removed]",
            "text/plain": [
              "<Figure size 720x432 with 1 Axes>"
            ]
          },
          "metadata": {
            "needs_background": "light"
          }
        },
        {
          "output_type": "display_data",
          "data": {
            "image/png": "[encoded data removed]",
            "text/plain": [
              "<Figure size 720x432 with 1 Axes>"
            ]
          },
          "metadata": {
            "needs_background": "light"
          }
        },
        {
          "output_type": "display_data",
          "data": {
            "image/png": "[encoded data removed]",
            "text/plain": [
              "<Figure size 720x432 with 1 Axes>"
            ]
          },
          "metadata": {
            "needs_background": "light"
          }
        },
        {
          "output_type": "display_data",
          "data": {
            "image/png": "[encoded data removed]",
            "text/plain": [
              "<Figure size 720x432 with 1 Axes>"
            ]
          },
          "metadata": {
            "needs_background": "light"
          }
        }
      ]
    },
    {
      "cell_type": "markdown",
      "source": [
        "- There are more cases of diabetes in respondents who have high blood pressure,have high cholesterol,have checked their cholesterol levels, who are smokers.\n",
        "\n",
        "- most respondets with diabetes are  above 50 years of age  meaning as one gets older he or she becomes more prone to diabetes condition.\n",
        "\n",
        "- from the plots bove we can see that among the respondets with high  education level  those with diabetes are fewer than those without, this is so because  the literate respondets have access to information on how to keep healthy lifestyle and feedinghabits which helps them  prevent risk of developing this condition.\n",
        "\n",
        "- most respondents with high income  don't have diabetes  since they can afford access to better healthcare services and practice healthy lifestyle."
      ],
      "metadata": {
        "id": "qLAD9956Vkn-"
      }
    },
    {
      "cell_type": "code",
      "source": [
        "# plotting ages against high blood pressure to see relationships\n",
        "plt.figure(figsize=(10,6))\n",
        "sns.countplot(x=df['Age'], hue='HighBP', data=df, palette='crest')\n",
        "plt.show()"
      ],
      "metadata": {
        "id": "x6VNCFbhUsNr",
        "colab": {
          "base_uri": "https://localhost:8080/",
          "height": 391
        },
        "outputId": "d9b55376-6d68-4eef-9e94-abcdb651f032"
      },
      "execution_count": 22,
      "outputs": [
        {
          "output_type": "display_data",
          "data": {
            "image/png": "[encoded data removed]",
            "text/plain": [
              "<Figure size 720x432 with 1 Axes>"
            ]
          },
          "metadata": {
            "needs_background": "light"
          }
        }
      ]
    },
    {
      "cell_type": "markdown",
      "source": [
        "- Occurence of High blood pressure tends to increase with increase in age."
      ],
      "metadata": {
        "id": "84vEqYc8beTs"
      }
    },
    {
      "cell_type": "code",
      "source": [
        "# checking relationship between having diabetes and education levels\n",
        "df.groupby('Diabetes_binary')['Education'].mean().plot(kind ='bar').set_ylabel(('Education'))"
      ],
      "metadata": {
        "id": "BKKUv92DYFvo",
        "colab": {
          "base_uri": "https://localhost:8080/",
          "height": 297
        },
        "outputId": "5472ff57-744f-45fb-a53d-5c6eb3830cd1"
      },
      "execution_count": 23,
      "outputs": [
        {
          "output_type": "execute_result",
          "data": {
            "text/plain": [
              "Text(0, 0.5, 'Education')"
            ]
          },
          "metadata": {},
          "execution_count": 23
        },
        {
          "output_type": "display_data",
          "data": {
            "image/png": "[encoded data removed]",
            "text/plain": [
              "<Figure size 432x288 with 1 Axes>"
            ]
          },
          "metadata": {
            "needs_background": "light"
          }
        }
      ]
    },
    {
      "cell_type": "markdown",
      "source": [
        "- The more education a respondent has,the lower the chances of having diabetes meaning that learned people are aware of the disease and what to do to reduce it's risk of occurence."
      ],
      "metadata": {
        "id": "xIEXCLMfibWS"
      }
    },
    {
      "cell_type": "code",
      "source": [
        "# checking relationship between having diabetes and income earned\n",
        "df.groupby('Diabetes_binary')['Income'].mean().plot(kind ='bar').set_ylabel(('Income'))"
      ],
      "metadata": {
        "id": "gTRB15d1jdVX",
        "colab": {
          "base_uri": "https://localhost:8080/",
          "height": 297
        },
        "outputId": "42bb675d-35ad-4a06-8d74-5aab106aaf08"
      },
      "execution_count": 24,
      "outputs": [
        {
          "output_type": "execute_result",
          "data": {
            "text/plain": [
              "Text(0, 0.5, 'Income')"
            ]
          },
          "metadata": {},
          "execution_count": 24
        },
        {
          "output_type": "display_data",
          "data": {
            "image/png": "[encoded data removed]",
            "text/plain": [
              "<Figure size 432x288 with 1 Axes>"
            ]
          },
          "metadata": {
            "needs_background": "light"
          }
        }
      ]
    },
    {
      "cell_type": "markdown",
      "source": [
        "- More people with better income don't have diabetes,as they can afford healthcare hence minimizing it's occurence."
      ],
      "metadata": {
        "id": "a2nATWTDjyLk"
      }
    },
    {
      "cell_type": "code",
      "source": [
        "# checking relationship between having diabetes and Age\n",
        "df.groupby('Diabetes_binary')['Age'].mean().plot(kind ='bar').set_ylabel(('Age'))"
      ],
      "metadata": {
        "id": "MIgWWsu2kLWd",
        "colab": {
          "base_uri": "https://localhost:8080/",
          "height": 297
        },
        "outputId": "04c78c3f-75e1-453c-d7b9-dbdbf4576dc9"
      },
      "execution_count": 25,
      "outputs": [
        {
          "output_type": "execute_result",
          "data": {
            "text/plain": [
              "Text(0, 0.5, 'Age')"
            ]
          },
          "metadata": {},
          "execution_count": 25
        },
        {
          "output_type": "display_data",
          "data": {
            "image/png": "[encoded data removed]",
            "text/plain": [
              "<Figure size 432x288 with 1 Axes>"
            ]
          },
          "metadata": {
            "needs_background": "light"
          }
        }
      ]
    },
    {
      "cell_type": "markdown",
      "source": [
        "- Diabetes risk increases with increase in age"
      ],
      "metadata": {
        "id": "Vrnow-pSkomF"
      }
    },
    {
      "cell_type": "code",
      "source": [
        "# checking relationship between age and mental/physical health\n",
        "df.groupby('Sex')['MentHlth'].mean().plot(kind ='bar').set_ylabel(('Mental Health'))"
      ],
      "metadata": {
        "id": "pHUXPFwFaE2L",
        "colab": {
          "base_uri": "https://localhost:8080/",
          "height": 297
        },
        "outputId": "6cdfd17f-ea1b-4690-ec8a-5af89f019101"
      },
      "execution_count": 26,
      "outputs": [
        {
          "output_type": "execute_result",
          "data": {
            "text/plain": [
              "Text(0, 0.5, 'Mental Health')"
            ]
          },
          "metadata": {},
          "execution_count": 26
        },
        {
          "output_type": "display_data",
          "data": {
            "image/png": "[encoded data removed]",
            "text/plain": [
              "<Figure size 432x288 with 1 Axes>"
            ]
          },
          "metadata": {
            "needs_background": "light"
          }
        }
      ]
    },
    {
      "cell_type": "markdown",
      "source": [
        "- There are more men with  mental health cases than women"
      ],
      "metadata": {
        "id": "Wxig1GV_d1yl"
      }
    },
    {
      "cell_type": "code",
      "source": [
        "df.groupby('Sex')['PhysHlth'].mean().plot(kind ='bar').set_ylabel(('Physical Health'))"
      ],
      "metadata": {
        "id": "fWsy-gqHau8l",
        "colab": {
          "base_uri": "https://localhost:8080/",
          "height": 297
        },
        "outputId": "f5540ef4-e821-4bd9-b8b4-04f7a96bd2ec"
      },
      "execution_count": 27,
      "outputs": [
        {
          "output_type": "execute_result",
          "data": {
            "text/plain": [
              "Text(0, 0.5, 'Physical Health')"
            ]
          },
          "metadata": {},
          "execution_count": 27
        },
        {
          "output_type": "display_data",
          "data": {
            "image/png": "[encoded data removed]",
            "text/plain": [
              "<Figure size 432x288 with 1 Axes>"
            ]
          },
          "metadata": {
            "needs_background": "light"
          }
        }
      ]
    },
    {
      "cell_type": "markdown",
      "source": [
        "- Women take have better mental and physical health scores than men making them less susceptible to the diabetes risk."
      ],
      "metadata": {
        "id": "Upcl3f_3e-5r"
      }
    },
    {
      "cell_type": "code",
      "source": [
        "df.columns"
      ],
      "metadata": {
        "id": "f1CbJFhVgrVj",
        "colab": {
          "base_uri": "https://localhost:8080/"
        },
        "outputId": "8e284e7d-909b-47d9-a5f8-d559269b862e"
      },
      "execution_count": 28,
      "outputs": [
        {
          "output_type": "execute_result",
          "data": {
            "text/plain": [
              "Index(['Diabetes_binary', 'HighBP', 'HighChol', 'CholCheck', 'BMI', 'Smoker',\n",
              "       'Stroke', 'HeartDiseaseorAttack', 'PhysActivity', 'Fruits', 'Veggies',\n",
              "       'HvyAlcoholConsump', 'AnyHealthcare', 'NoDocbcCost', 'GenHlth',\n",
              "       'MentHlth', 'PhysHlth', 'DiffWalk', 'Sex', 'Age', 'Education',\n",
              "       'Income'],\n",
              "      dtype='object')"
            ]
          },
          "metadata": {},
          "execution_count": 28
        }
      ]
    },
    {
      "cell_type": "code",
      "source": [
        "#Cross tabulation between Diabetes_binary and HvyAlcoholConsump\n",
        "CrosstabResult=pd.crosstab(index=df['Diabetes_binary'],columns=df['HvyAlcoholConsump'])\n",
        "print(CrosstabResult)\n",
        "CrosstabResult.plot.bar(stacked=True, rot=0)\n"
      ],
      "metadata": {
        "id": "UCO2cPr3gEdj",
        "colab": {
          "base_uri": "https://localhost:8080/",
          "height": 373
        },
        "outputId": "7f9b5445-a2fa-4b42-b006-12653f80a906"
      },
      "execution_count": 29,
      "outputs": [
        {
          "output_type": "stream",
          "name": "stdout",
          "text": [
            "HvyAlcoholConsump       0      1\n",
            "Diabetes_binary                 \n",
            "0                  181259  13118\n",
            "1                   34265    832\n"
          ]
        },
        {
          "output_type": "execute_result",
          "data": {
            "text/plain": [
              "<matplotlib.axes._subplots.AxesSubplot at 0x7f36ec60c150>"
            ]
          },
          "metadata": {},
          "execution_count": 29
        },
        {
          "output_type": "display_data",
          "data": {
            "image/png": "[encoded data removed]",
            "text/plain": [
              "<Figure size 432x288 with 1 Axes>"
            ]
          },
          "metadata": {
            "needs_background": "light"
          }
        }
      ]
    },
    {
      "cell_type": "markdown",
      "source": [
        "- Most diabetic respondents don't struggle with high alcohol consumption, while those that are not diabetic have heavy alcohol consumption."
      ],
      "metadata": {
        "id": "C5PYYuhN6Nvb"
      }
    },
    {
      "cell_type": "code",
      "source": [
        "# Cross tabulation between Diabetes_binary and Income\n",
        "CrosstabResult=pd.crosstab(index=df['Diabetes_binary'],columns=df['Income'])\n",
        "print(CrosstabResult)\n",
        " \n",
        "# Grouped bar chart between Diabetes_binary and income\n",
        "CrosstabResult.plot.bar()"
      ],
      "metadata": {
        "id": "fOU5M0Bnh79o",
        "colab": {
          "base_uri": "https://localhost:8080/",
          "height": 370
        },
        "outputId": "9bd898b0-49a1-4e07-e51f-7656b7272a92"
      },
      "execution_count": 30,
      "outputs": [
        {
          "output_type": "stream",
          "name": "stdout",
          "text": [
            "Income              1     2      3      4      5      6      7      8\n",
            "Diabetes_binary                                                      \n",
            "0                7408  8670  12356  15906  20837  29697  34905  64598\n",
            "1                2383  3086   3564   4047   4489   5260   5226   7042\n"
          ]
        },
        {
          "output_type": "execute_result",
          "data": {
            "text/plain": [
              "<matplotlib.axes._subplots.AxesSubplot at 0x7f36eca7ded0>"
            ]
          },
          "metadata": {},
          "execution_count": 30
        },
        {
          "output_type": "display_data",
          "data": {
            "image/png": "[encoded data removed]",
            "text/plain": [
              "<Figure size 432x288 with 1 Axes>"
            ]
          },
          "metadata": {
            "needs_background": "light"
          }
        }
      ]
    },
    {
      "cell_type": "markdown",
      "source": [
        "Most non diabetic have high income as compared to diabetic. \n",
        "This suggets that high cost of medication lowers the individual income. "
      ],
      "metadata": {
        "id": "vUhUOFcp7mmO"
      }
    },
    {
      "cell_type": "markdown",
      "source": [
        "## c.) Multivariate Analysis"
      ],
      "metadata": {
        "id": "yc1LmoYWtTA9"
      }
    },
    {
      "cell_type": "code",
      "source": [
        "# Extracting the  target variable\n",
        "X = df.drop(['Diabetes_binary'], axis=1)\n",
        "y = df['Diabetes_binary']"
      ],
      "metadata": {
        "id": "u_lmJL0Stpxj"
      },
      "execution_count": 31,
      "outputs": []
    },
    {
      "cell_type": "code",
      "source": [
        "#We will pefrom LDA and get its results from sklearn.discriminant_analysis \n",
        "from sklearn.discriminant_analysis import LinearDiscriminantAnalysis as LDA\n",
        "lda=LDA() \n",
        "lda_=lda.fit(X,y) \n",
        "lda_x=lda_.transform(X) \n",
        "lda_.coef_"
      ],
      "metadata": {
        "id": "AQ0fdwMvtsYq",
        "colab": {
          "base_uri": "https://localhost:8080/"
        },
        "outputId": "9cc1e62c-2eaf-4534-e122-d91497b990ca"
      },
      "execution_count": 32,
      "outputs": [
        {
          "output_type": "execute_result",
          "data": {
            "text/plain": [
              "array([[ 0.71681957,  0.55291655,  0.40417498,  0.06408403, -0.05844701,\n",
              "         0.31780888,  0.57334135, -0.04391194, -0.00977669, -0.01217244,\n",
              "        -0.48631699,  0.13067813, -0.06471528,  0.45216859, -0.00556783,\n",
              "        -0.00109571,  0.373741  ,  0.19180749,  0.07383626, -0.0250136 ,\n",
              "        -0.05576806]])"
            ]
          },
          "metadata": {},
          "execution_count": 32
        }
      ]
    },
    {
      "cell_type": "code",
      "source": [
        "#the reults are in array type #we will convert them into a dataframe \n",
        "result=pd.DataFrame(index=X.columns.values,data=lda_.coef_[0]) \n",
        "result.rename(columns={0:'coefficients from LDA'},inplace=True) \n",
        "result.sort_values(by='coefficients from LDA',ascending=False)"
      ],
      "metadata": {
        "id": "vjiJ_fBatvwE",
        "colab": {
          "base_uri": "https://localhost:8080/",
          "height": 708
        },
        "outputId": "7503c012-dd2e-4187-ff8b-66096c71c995"
      },
      "execution_count": 33,
      "outputs": [
        {
          "output_type": "execute_result",
          "data": {
            "text/html": [
              "\n",
              "  <div id=\"df-7f8fce5c-23d5-49b7-af44-8ab7f5b8c2cd\">\n",
              "    <div class=\"colab-df-container\">\n",
              "      <div>\n",
              "<style scoped>\n",
              "    .dataframe tbody tr th:only-of-type {\n",
              "        vertical-align: middle;\n",
              "    }\n",
              "\n",
              "    .dataframe tbody tr th {\n",
              "        vertical-align: top;\n",
              "    }\n",
              "\n",
              "    .dataframe thead th {\n",
              "        text-align: right;\n",
              "    }\n",
              "</style>\n",
              "<table border=\"1\" class=\"dataframe\">\n",
              "  <thead>\n",
              "    <tr style=\"text-align: right;\">\n",
              "      <th></th>\n",
              "      <th>coefficients from LDA</th>\n",
              "    </tr>\n",
              "  </thead>\n",
              "  <tbody>\n",
              "    <tr>\n",
              "      <th>HighBP</th>\n",
              "      <td>0.716820</td>\n",
              "    </tr>\n",
              "    <tr>\n",
              "      <th>HeartDiseaseorAttack</th>\n",
              "      <td>0.573341</td>\n",
              "    </tr>\n",
              "    <tr>\n",
              "      <th>HighChol</th>\n",
              "      <td>0.552917</td>\n",
              "    </tr>\n",
              "    <tr>\n",
              "      <th>GenHlth</th>\n",
              "      <td>0.452169</td>\n",
              "    </tr>\n",
              "    <tr>\n",
              "      <th>CholCheck</th>\n",
              "      <td>0.404175</td>\n",
              "    </tr>\n",
              "    <tr>\n",
              "      <th>DiffWalk</th>\n",
              "      <td>0.373741</td>\n",
              "    </tr>\n",
              "    <tr>\n",
              "      <th>Stroke</th>\n",
              "      <td>0.317809</td>\n",
              "    </tr>\n",
              "    <tr>\n",
              "      <th>Sex</th>\n",
              "      <td>0.191807</td>\n",
              "    </tr>\n",
              "    <tr>\n",
              "      <th>AnyHealthcare</th>\n",
              "      <td>0.130678</td>\n",
              "    </tr>\n",
              "    <tr>\n",
              "      <th>Age</th>\n",
              "      <td>0.073836</td>\n",
              "    </tr>\n",
              "    <tr>\n",
              "      <th>BMI</th>\n",
              "      <td>0.064084</td>\n",
              "    </tr>\n",
              "    <tr>\n",
              "      <th>PhysHlth</th>\n",
              "      <td>-0.001096</td>\n",
              "    </tr>\n",
              "    <tr>\n",
              "      <th>MentHlth</th>\n",
              "      <td>-0.005568</td>\n",
              "    </tr>\n",
              "    <tr>\n",
              "      <th>Fruits</th>\n",
              "      <td>-0.009777</td>\n",
              "    </tr>\n",
              "    <tr>\n",
              "      <th>Veggies</th>\n",
              "      <td>-0.012172</td>\n",
              "    </tr>\n",
              "    <tr>\n",
              "      <th>Education</th>\n",
              "      <td>-0.025014</td>\n",
              "    </tr>\n",
              "    <tr>\n",
              "      <th>PhysActivity</th>\n",
              "      <td>-0.043912</td>\n",
              "    </tr>\n",
              "    <tr>\n",
              "      <th>Income</th>\n",
              "      <td>-0.055768</td>\n",
              "    </tr>\n",
              "    <tr>\n",
              "      <th>Smoker</th>\n",
              "      <td>-0.058447</td>\n",
              "    </tr>\n",
              "    <tr>\n",
              "      <th>NoDocbcCost</th>\n",
              "      <td>-0.064715</td>\n",
              "    </tr>\n",
              "    <tr>\n",
              "      <th>HvyAlcoholConsump</th>\n",
              "      <td>-0.486317</td>\n",
              "    </tr>\n",
              "  </tbody>\n",
              "</table>\n",
              "</div>\n",
              "      <button class=\"colab-df-convert\" onclick=\"convertToInteractive('df-7f8fce5c-23d5-49b7-af44-8ab7f5b8c2cd')\"\n",
              "              title=\"Convert this dataframe to an interactive table.\"\n",
              "              style=\"display:none;\">\n",
              "        \n",
              "  <svg xmlns=\"http://www.w3.org/2000/svg\" height=\"24px\"viewBox=\"0 0 24 24\"\n",
              "       width=\"24px\">\n",
              "    <path d=\"M0 0h24v24H0V0z\" fill=\"none\"/>\n",
              "    <path d=\"M18.56 5.44l.94 2.06.94-2.06 2.06-.94-2.06-.94-.94-2.06-.94 2.06-2.06.94zm-11 1L8.5 8.5l.94-2.06 2.06-.94-2.06-.94L8.5 2.5l-.94 2.06-2.06.94zm10 10l.94 2.06.94-2.06 2.06-.94-2.06-.94-.94-2.06-.94 2.06-2.06.94z\"/><path d=\"M17.41 7.96l-1.37-1.37c-.4-.4-.92-.59-1.43-.59-.52 0-1.04.2-1.43.59L10.3 9.45l-7.72 7.72c-.78.78-.78 2.05 0 2.83L4 21.41c.39.39.9.59 1.41.59.51 0 1.02-.2 1.41-.59l7.78-7.78 2.81-2.81c.8-.78.8-2.07 0-2.86zM5.41 20L4 18.59l7.72-7.72 1.47 1.35L5.41 20z\"/>\n",
              "  </svg>\n",
              "      </button>\n",
              "      \n",
              "  <style>\n",
              "    .colab-df-container {\n",
              "      display:flex;\n",
              "      flex-wrap:wrap;\n",
              "      gap: 12px;\n",
              "    }\n",
              "\n",
              "    .colab-df-convert {\n",
              "      background-color: #E8F0FE;\n",
              "      border: none;\n",
              "      border-radius: 50%;\n",
              "      cursor: pointer;\n",
              "      display: none;\n",
              "      fill: #1967D2;\n",
              "      height: 32px;\n",
              "      padding: 0 0 0 0;\n",
              "      width: 32px;\n",
              "    }\n",
              "\n",
              "    .colab-df-convert:hover {\n",
              "      background-color: #E2EBFA;\n",
              "      box-shadow: 0px 1px 2px rgba(60, 64, 67, 0.3), 0px 1px 3px 1px rgba(60, 64, 67, 0.15);\n",
              "      fill: #174EA6;\n",
              "    }\n",
              "\n",
              "    [theme=dark] .colab-df-convert {\n",
              "      background-color: #3B4455;\n",
              "      fill: #D2E3FC;\n",
              "    }\n",
              "\n",
              "    [theme=dark] .colab-df-convert:hover {\n",
              "      background-color: #434B5C;\n",
              "      box-shadow: 0px 1px 3px 1px rgba(0, 0, 0, 0.15);\n",
              "      filter: drop-shadow(0px 1px 2px rgba(0, 0, 0, 0.3));\n",
              "      fill: #FFFFFF;\n",
              "    }\n",
              "  </style>\n",
              "\n",
              "      <script>\n",
              "        const buttonEl =\n",
              "          document.querySelector('#df-7f8fce5c-23d5-49b7-af44-8ab7f5b8c2cd button.colab-df-convert');\n",
              "        buttonEl.style.display =\n",
              "          google.colab.kernel.accessAllowed ? 'block' : 'none';\n",
              "\n",
              "        async function convertToInteractive(key) {\n",
              "          const element = document.querySelector('#df-7f8fce5c-23d5-49b7-af44-8ab7f5b8c2cd');\n",
              "          const dataTable =\n",
              "            await google.colab.kernel.invokeFunction('convertToInteractive',\n",
              "                                                     [key], {});\n",
              "          if (!dataTable) return;\n",
              "\n",
              "          const docLinkHtml = 'Like what you see? Visit the ' +\n",
              "            '<a target=\"_blank\" href=https://colab.research.google.com/notebooks/data_table.ipynb>data table notebook</a>'\n",
              "            + ' to learn more about interactive tables.';\n",
              "          element.innerHTML = '';\n",
              "          dataTable['output_type'] = 'display_data';\n",
              "          await google.colab.output.renderOutput(dataTable, element);\n",
              "          const docLink = document.createElement('div');\n",
              "          docLink.innerHTML = docLinkHtml;\n",
              "          element.appendChild(docLink);\n",
              "        }\n",
              "      </script>\n",
              "    </div>\n",
              "  </div>\n",
              "  "
            ],
            "text/plain": [
              "                      coefficients from LDA\n",
              "HighBP                             0.716820\n",
              "HeartDiseaseorAttack               0.573341\n",
              "HighChol                           0.552917\n",
              "GenHlth                            0.452169\n",
              "CholCheck                          0.404175\n",
              "DiffWalk                           0.373741\n",
              "Stroke                             0.317809\n",
              "Sex                                0.191807\n",
              "AnyHealthcare                      0.130678\n",
              "Age                                0.073836\n",
              "BMI                                0.064084\n",
              "PhysHlth                          -0.001096\n",
              "MentHlth                          -0.005568\n",
              "Fruits                            -0.009777\n",
              "Veggies                           -0.012172\n",
              "Education                         -0.025014\n",
              "PhysActivity                      -0.043912\n",
              "Income                            -0.055768\n",
              "Smoker                            -0.058447\n",
              "NoDocbcCost                       -0.064715\n",
              "HvyAlcoholConsump                 -0.486317"
            ]
          },
          "metadata": {},
          "execution_count": 33
        }
      ]
    },
    {
      "cell_type": "markdown",
      "source": [
        "- HighBP,HeartDiseaseorAttack,HighChol,GenHlth,CholCheck,DiffWalk,Stroke,Sex,AnyHealthcare,Age,BMI variables will best determine our model's performance."
      ],
      "metadata": {
        "id": "p3xIElJNrKAH"
      }
    },
    {
      "cell_type": "markdown",
      "source": [
        "## Feature Scaling"
      ],
      "metadata": {
        "id": "I2pQK5cEjdPe"
      }
    },
    {
      "cell_type": "code",
      "source": [
        "# Extracting the target and independent variables\n",
        "X = df.drop(['Diabetes_binary','PhysHlth', 'MentHlth','Fruits','Veggies','Education','PhysActivity','Income','Smoker','NoDocbcCost','HvyAlcoholConsump'], axis=1)\n",
        "y = df['Diabetes_binary']\n",
        "# split data\n",
        "X_train,X_test,y_train,y_test = train_test_split(X,y,test_size =0.2,random_state=42)\n",
        "# feature scaling\n",
        "from sklearn.preprocessing import StandardScaler\n",
        "\n",
        "# Create an instance of the scaler and apply it to the data\n",
        "sc = StandardScaler()\n",
        "\n",
        "X_train = sc.fit_transform(X_train)\n",
        "\n",
        "X_test = sc.transform(X_test)"
      ],
      "metadata": {
        "id": "0YGIBaZyyoS0"
      },
      "execution_count": 34,
      "outputs": []
    },
    {
      "cell_type": "code",
      "source": [
        "# distribution of the classes in split dataset\n",
        "y_train.value_counts(normalize=True)"
      ],
      "metadata": {
        "id": "BtdT2Vok4A5H",
        "colab": {
          "base_uri": "https://localhost:8080/"
        },
        "outputId": "1c69e75a-9dee-43e9-82c1-7ab8e85bb44b"
      },
      "execution_count": 35,
      "outputs": [
        {
          "output_type": "execute_result",
          "data": {
            "text/plain": [
              "0    0.847395\n",
              "1    0.152605\n",
              "Name: Diabetes_binary, dtype: float64"
            ]
          },
          "metadata": {},
          "execution_count": 35
        }
      ]
    },
    {
      "cell_type": "markdown",
      "source": [
        "- There are more cases of respondents without diabetes than those that do."
      ],
      "metadata": {
        "id": "gqccZNSA4CYS"
      }
    },
    {
      "cell_type": "markdown",
      "source": [
        "# 5.) Modeling"
      ],
      "metadata": {
        "id": "CqCYZqzmwSEL"
      }
    },
    {
      "cell_type": "markdown",
      "source": [
        "## a.) Logistic Regression"
      ],
      "metadata": {
        "id": "wolqC-D3wXto"
      }
    },
    {
      "cell_type": "code",
      "source": [
        "from sklearn.linear_model import LogisticRegression\n",
        "lr = LogisticRegression()\n",
        "lr.fit(X_train,y_train)\n",
        "y_pred = lr.predict(X_test)\n",
        "\n",
        "# Model Accuracy\n",
        "print(\"Model Accuracy:\",accuracy_score(y_test, y_pred))\n",
        "print('....................................................')\n",
        "\n",
        "print('Confusion matrix:',confusion_matrix(y_test,y_pred))\n",
        "print('....................................................')\n",
        "\n",
        "print('Precision score:',precision_score(y_test,y_pred))\n",
        "print('....................................................')\n",
        "\n",
        "print('Explained_variance_score:',explained_variance_score(y_test,y_pred))\n",
        "print('....................................................')\n",
        "\n",
        "print(classification_report(y_test,y_pred))"
      ],
      "metadata": {
        "id": "9MiaW1ttwRxK",
        "colab": {
          "base_uri": "https://localhost:8080/"
        },
        "outputId": "4644573a-0048-4cef-9f33-984fe15604e0"
      },
      "execution_count": 36,
      "outputs": [
        {
          "output_type": "stream",
          "name": "stdout",
          "text": [
            "Model Accuracy: 0.8486109597995425\n",
            "....................................................\n",
            "Confusion matrix: [[37939   874]\n",
            " [ 6074  1008]]\n",
            "....................................................\n",
            "Precision score: 0.5356004250797024\n",
            "....................................................\n",
            "Explained_variance_score: -0.061718513260561325\n",
            "....................................................\n",
            "              precision    recall  f1-score   support\n",
            "\n",
            "           0       0.86      0.98      0.92     38813\n",
            "           1       0.54      0.14      0.22      7082\n",
            "\n",
            "    accuracy                           0.85     45895\n",
            "   macro avg       0.70      0.56      0.57     45895\n",
            "weighted avg       0.81      0.85      0.81     45895\n",
            "\n"
          ]
        }
      ]
    },
    {
      "cell_type": "markdown",
      "source": [
        "- Model is 84.86% accurate with precision score of 53.56%"
      ],
      "metadata": {
        "id": "HeDJzjKUx6AK"
      }
    },
    {
      "cell_type": "markdown",
      "source": [
        "### Optimization using Cross Validation(Logistic Regression)"
      ],
      "metadata": {
        "id": "jFEYH6jg0tEX"
      }
    },
    {
      "cell_type": "code",
      "source": [
        "kf=KFold(n_splits=10,random_state=42,shuffle=True) \n",
        "model_kfold=LogisticRegression()\n",
        "\n",
        "from sklearn import model_selection \n",
        "results_kfold=model_selection.cross_val_score(model_kfold,X,y,cv=kf)\n",
        "print('Model Accuracy: %.2f%%' %(results_kfold.mean()*100) )"
      ],
      "metadata": {
        "id": "EdwRoJkk0sbQ",
        "colab": {
          "base_uri": "https://localhost:8080/"
        },
        "outputId": "142f85c0-300d-47c0-eaba-36cd6c73b2ae"
      },
      "execution_count": 37,
      "outputs": [
        {
          "output_type": "stream",
          "name": "stdout",
          "text": [
            "Model Accuracy: 85.02%\n"
          ]
        }
      ]
    },
    {
      "cell_type": "markdown",
      "source": [
        "- Using K-Fold,the accuracy increases slightly by 0.16%. The k-fold model performed better."
      ],
      "metadata": {
        "id": "TwnWQWvu1N5E"
      }
    },
    {
      "cell_type": "markdown",
      "source": [
        "## b.) Decision Trees"
      ],
      "metadata": {
        "id": "gGaQgKdI3kc4"
      }
    },
    {
      "cell_type": "code",
      "source": [
        "from sklearn.tree import DecisionTreeClassifier\n",
        "# Create a decision tree classifier\n",
        "\n",
        "dt = DecisionTreeClassifier()\n",
        "\n",
        "# Train it on our training set.\n",
        "dt = dt.fit(X_train, y_train)\n",
        "\n",
        "# Predict based on the model we've trained\n",
        "y_pred_dt = dt.predict(X_test)\n",
        "\n",
        "# Model Accuracy\n",
        "print(\"Model Accuracy:\",accuracy_score(y_test, y_pred_dt))\n",
        "print('....................................................')\n",
        "\n",
        "print('Confusion matrix:',confusion_matrix(y_test,y_pred_dt))\n",
        "print('....................................................')\n",
        "\n",
        "print('Precision score:',precision_score(y_test,y_pred_dt))\n",
        "print('....................................................')\n",
        "\n",
        "print('Explained_variance_score:',explained_variance_score(y_test,y_pred_dt))\n",
        "print('....................................................')\n",
        "\n",
        "print(classification_report(y_test,y_pred_dt))"
      ],
      "metadata": {
        "id": "7m8mbT4732fD",
        "colab": {
          "base_uri": "https://localhost:8080/"
        },
        "outputId": "81d83b2d-c309-406e-aa78-225e745ea148"
      },
      "execution_count": 38,
      "outputs": [
        {
          "output_type": "stream",
          "name": "stdout",
          "text": [
            "Model Accuracy: 0.8312016559538076\n",
            "....................................................\n",
            "Confusion matrix: [[36886  1927]\n",
            " [ 5820  1262]]\n",
            "....................................................\n",
            "Precision score: 0.39573534023204765\n",
            "....................................................\n",
            "Explained_variance_score: -0.23836204811267758\n",
            "....................................................\n",
            "              precision    recall  f1-score   support\n",
            "\n",
            "           0       0.86      0.95      0.90     38813\n",
            "           1       0.40      0.18      0.25      7082\n",
            "\n",
            "    accuracy                           0.83     45895\n",
            "   macro avg       0.63      0.56      0.58     45895\n",
            "weighted avg       0.79      0.83      0.80     45895\n",
            "\n"
          ]
        }
      ]
    },
    {
      "cell_type": "markdown",
      "source": [
        "- Accuracy is 83.12%, lower than the logistic model.\n",
        "- Precision can be seen as a measure of quality, and recall as a measure of quantity. Higher precision means that an algorithm returns more relevant results than irrelevant ones, and high recall means that an algorithm returns most of the relevant results (whether or not irrelevant ones are also returned).\n",
        "- Precision score is 39.57% which is somewhat low from that of logistic model."
      ],
      "metadata": {
        "id": "8vegfmi79P8G"
      }
    },
    {
      "cell_type": "markdown",
      "source": [
        "### Optimization using ADA boost"
      ],
      "metadata": {
        "id": "NaH73cRcL8Kb"
      }
    },
    {
      "cell_type": "code",
      "source": [
        "from sklearn.ensemble import AdaBoostClassifier\n",
        "ada = AdaBoostClassifier(n_estimators=100, random_state=42)\n",
        "ada = ada.fit(X_train, y_train)\n",
        "y_pred_ada = ada.predict(X_test)\n",
        "\n",
        "from sklearn import metrics\n",
        "# checking for model accuracy\n",
        "\n",
        "print(\"Model Accuracy:\",accuracy_score(y_test, y_pred_ada))\n",
        "print('....................................................')\n",
        "\n",
        "print('Confusion matrix:',confusion_matrix(y_test,y_pred_ada))\n",
        "print('....................................................')\n",
        "\n",
        "print('Precision score:',precision_score(y_test,y_pred_ada))\n",
        "print('....................................................')\n",
        "\n",
        "print('Explained_variance_score:',explained_variance_score(y_test,y_pred_ada))\n",
        "print('....................................................')\n",
        "\n",
        "print(classification_report(y_test,y_pred_ada))\n"
      ],
      "metadata": {
        "id": "r-IegNawdgG3",
        "colab": {
          "base_uri": "https://localhost:8080/"
        },
        "outputId": "fd6333f7-97e3-42e4-ecb8-246f2db2c9b8"
      },
      "execution_count": 39,
      "outputs": [
        {
          "output_type": "stream",
          "name": "stdout",
          "text": [
            "Model Accuracy: 0.8513127791698442\n",
            "....................................................\n",
            "Confusion matrix: [[37883   930]\n",
            " [ 5894  1188]]\n",
            "....................................................\n",
            "Precision score: 0.5609065155807366\n",
            "....................................................\n",
            "Explained_variance_score: -0.04974109815234229\n",
            "....................................................\n",
            "              precision    recall  f1-score   support\n",
            "\n",
            "           0       0.87      0.98      0.92     38813\n",
            "           1       0.56      0.17      0.26      7082\n",
            "\n",
            "    accuracy                           0.85     45895\n",
            "   macro avg       0.71      0.57      0.59     45895\n",
            "weighted avg       0.82      0.85      0.82     45895\n",
            "\n"
          ]
        }
      ]
    },
    {
      "cell_type": "markdown",
      "source": [
        "- Accuracy increases to 85.13% which is the best performing model so far.\n",
        "- Precision score increases to 56.09% after hyperparameter tuning"
      ],
      "metadata": {
        "id": "9awGwwX7eY4K"
      }
    },
    {
      "cell_type": "markdown",
      "source": [
        "### Optimization using Gradient Boosting"
      ],
      "metadata": {
        "id": "rV-N6GjjNUJs"
      }
    },
    {
      "cell_type": "code",
      "source": [
        "from sklearn.ensemble import GradientBoostingClassifier\n",
        "\n",
        "gb = GradientBoostingClassifier(n_estimators=100, learning_rate=0.1, max_depth=2, random_state=42)\n",
        "gb = gb.fit(X_train, y_train)\n",
        "y_pred_gb = gb.predict(X_test)\n",
        "\n",
        "from sklearn import metrics\n",
        "from sklearn import metrics\n",
        "# checking for model accuracy\n",
        "\n",
        "print(\"Model Accuracy:\",accuracy_score(y_test, y_pred_gb))\n",
        "print('....................................................')\n",
        "\n",
        "print('Confusion matrix:',confusion_matrix(y_test,y_pred_gb))\n",
        "print('....................................................')\n",
        "\n",
        "print('Precision score:',precision_score(y_test,y_pred_gb))\n",
        "print('....................................................')\n",
        "\n",
        "print('Explained_variance_score:',explained_variance_score(y_test,y_pred_gb))\n",
        "print('....................................................')\n",
        "\n",
        "print(classification_report(y_test,y_pred_gb))\n"
      ],
      "metadata": {
        "id": "mJ-jskkVe_4F",
        "colab": {
          "base_uri": "https://localhost:8080/"
        },
        "outputId": "06565d22-2673-42fd-b88f-48648b839ad1"
      },
      "execution_count": 40,
      "outputs": [
        {
          "output_type": "stream",
          "name": "stdout",
          "text": [
            "Model Accuracy: 0.8512692014380652\n",
            "....................................................\n",
            "Confusion matrix: [[38003   810]\n",
            " [ 6016  1066]]\n",
            "....................................................\n",
            "Precision score: 0.5682302771855011\n",
            "....................................................\n",
            "Explained_variance_score: -0.041121320075820256\n",
            "....................................................\n",
            "              precision    recall  f1-score   support\n",
            "\n",
            "           0       0.86      0.98      0.92     38813\n",
            "           1       0.57      0.15      0.24      7082\n",
            "\n",
            "    accuracy                           0.85     45895\n",
            "   macro avg       0.72      0.56      0.58     45895\n",
            "weighted avg       0.82      0.85      0.81     45895\n",
            "\n"
          ]
        }
      ]
    },
    {
      "cell_type": "markdown",
      "source": [
        "- Accuracy is 85.12% which is almost similar to the ada boost model but slightly lower. \n",
        "- The precision score increases to 56.82%. This makes it more accurate.\n",
        "- Both models have almost similar accuracies."
      ],
      "metadata": {
        "id": "_779K9i-fUxP"
      }
    },
    {
      "cell_type": "markdown",
      "source": [
        "### Optimization using GridSearchCV"
      ],
      "metadata": {
        "id": "f5IihJ0AMIJB"
      }
    },
    {
      "cell_type": "code",
      "source": [
        "params = {\n",
        "    'max_depth': [2, 3, 5, 10, 20],\n",
        "    'min_samples_leaf': [5, 10, 20, 50, 100],\n",
        "    'criterion': [\"gini\", \"entropy\"]\n",
        "}\n",
        "grid_search = GridSearchCV(estimator=dt, \n",
        "                           param_grid=params, \n",
        "                           cv=4, n_jobs=1, verbose=1, scoring = \"accuracy\")"
      ],
      "metadata": {
        "id": "7nkCg1UkJTsn"
      },
      "execution_count": 41,
      "outputs": []
    },
    {
      "cell_type": "code",
      "source": [
        "grid_search.fit(X_train,y_train)"
      ],
      "metadata": {
        "id": "WXCntCa8JgYj"
      },
      "execution_count": 42,
      "outputs": []
    },
    {
      "cell_type": "code",
      "source": [
        "# Fitting grid search\n",
        "best_par = grid_search.fit(X_train, y_train)\n",
        "#Predicting values based on the new parameters:\n",
        "y_pred = best_par.predict(X_test)\n",
        "print('Best Max_depth:', best_par.best_estimator_.get_params()['max_depth'])\n",
        "print('Best Min_samples:', best_par.best_estimator_.get_params()['min_samples_leaf'])\n",
        "print('Best criterion:', best_par.best_estimator_.get_params()['criterion'])\n",
        "print('best_score',best_par.best_score_)"
      ],
      "metadata": {
        "id": "WqTZL6cgJlJF"
      },
      "execution_count": 43,
      "outputs": []
    },
    {
      "cell_type": "code",
      "source": [
        "# Model Selection using the best parameters as suggested above:\n",
        "dt = DecisionTreeClassifier(max_depth=10, min_samples_split=50, criterion='entropy',random_state=42)\n",
        "\n",
        "#Fitting the model:\n",
        "dt.fit(X_train,y_train )"
      ],
      "metadata": {
        "id": "0DgE5TcGJ0tF",
        "colab": {
          "base_uri": "https://localhost:8080/"
        },
        "outputId": "fa06d416-1ddf-479a-a319-bc505d6c7d1b"
      },
      "execution_count": 44,
      "outputs": [
        {
          "output_type": "execute_result",
          "data": {
            "text/plain": [
              "DecisionTreeClassifier(criterion='entropy', max_depth=10, min_samples_split=50,\n",
              "                       random_state=42)"
            ]
          },
          "metadata": {},
          "execution_count": 44
        }
      ]
    },
    {
      "cell_type": "code",
      "source": [
        "y_pred_dt=dt.predict(X_test)"
      ],
      "metadata": {
        "id": "zEa9u3SxJ5t3"
      },
      "execution_count": 45,
      "outputs": []
    },
    {
      "cell_type": "code",
      "source": [
        "# Model Accuracy\n",
        "print(\"Model Accuracy:\",accuracy_score(y_test, y_pred_dt))\n",
        "print('....................................................')\n",
        "\n",
        "print('Confusion matrix:',confusion_matrix(y_test,y_pred_dt))\n",
        "print('....................................................')\n",
        "\n",
        "print('Precision score:',precision_score(y_test,y_pred_dt))\n",
        "print('....................................................')\n",
        "\n",
        "print('Explained_variance_score:',explained_variance_score(y_test,y_pred_dt))\n",
        "print('....................................................')\n",
        "\n",
        "print(classification_report(y_test,y_pred_dt))"
      ],
      "metadata": {
        "id": "UnrrHVX4J6jB",
        "colab": {
          "base_uri": "https://localhost:8080/"
        },
        "outputId": "a72a5192-d5e2-490f-e229-e100bc38eef7"
      },
      "execution_count": 46,
      "outputs": [
        {
          "output_type": "stream",
          "name": "stdout",
          "text": [
            "Model Accuracy: 0.8500054472164724\n",
            "....................................................\n",
            "Confusion matrix: [[37970   843]\n",
            " [ 6041  1041]]\n",
            "....................................................\n",
            "Precision score: 0.552547770700637\n",
            "....................................................\n",
            "Explained_variance_score: -0.05110824257715563\n",
            "....................................................\n",
            "              precision    recall  f1-score   support\n",
            "\n",
            "           0       0.86      0.98      0.92     38813\n",
            "           1       0.55      0.15      0.23      7082\n",
            "\n",
            "    accuracy                           0.85     45895\n",
            "   macro avg       0.71      0.56      0.57     45895\n",
            "weighted avg       0.81      0.85      0.81     45895\n",
            "\n"
          ]
        }
      ]
    },
    {
      "cell_type": "markdown",
      "source": [
        "- Accuracy is 85%, higher than 83.15% from decision trees. Grid search has improved the model's performance.\n",
        "- It is safe to say that,GridSearch, ADA and Gradient boosting improve the decision tree performance almost equally."
      ],
      "metadata": {
        "id": "H3d4oD86Mu-w"
      }
    },
    {
      "cell_type": "code",
      "source": [
        "features = df[['HighBP', 'HighChol', 'CholCheck', 'BMI', 'Stroke',\n",
        "       'HeartDiseaseorAttack', 'AnyHealthcare', 'GenHlth', 'DiffWalk', 'Sex',\n",
        "       'Age']]\n",
        "\n",
        "# !pip install --upgrade scikit-learn==0.20.3\n",
        "\n",
        "# from sklearn.tree import export_graphviz\n",
        "# from sklearn.externals.six import StringIO  \n",
        "# from IPython.display import Image  \n",
        "# import pydotplus\n",
        "\n",
        "\n",
        "# dot_data = StringIO()\n",
        "# export_graphviz(dt, out_file=dot_data,  \n",
        "#                 filled=True, rounded=True,\n",
        "#                 special_characters=True,feature_names = features.columns,class_names=['0','1'])\n",
        "# graph = pydotplus.graph_from_dot_data(dot_data.getvalue())  \n",
        "# graph.write_png('diabetes.png')\n",
        "# Image(graph.create_png())"
      ],
      "metadata": {
        "id": "EWSP2lfAjgId"
      },
      "execution_count": 47,
      "outputs": []
    },
    {
      "cell_type": "markdown",
      "source": [
        "- According to this model, GenHlth,HighBP,BMI,HighChol,DiffWalk,Age,HeartDiseaseorAttack and Stroke are the main features."
      ],
      "metadata": {
        "id": "u-E0e88rYGSj"
      }
    },
    {
      "cell_type": "markdown",
      "source": [
        "# c.) Random Forest"
      ],
      "metadata": {
        "id": "A2wYI3dRWG2O"
      }
    },
    {
      "cell_type": "code",
      "source": [
        "from sklearn.ensemble import RandomForestClassifier\n",
        "\n",
        "#Initiating the random forest classifier:\n",
        "rf = RandomForestClassifier()\n",
        "\n",
        "#Fitting the model:\n",
        "rf.fit(X_train, y_train )\n",
        "\n",
        "#Applying the trained model to make a prediction:\n",
        "y_pred_rf = rf.predict(X_test)\n",
        "# Model Accuracy\n",
        "print(\"Model Accuracy:\",accuracy_score(y_test, y_pred_rf))\n",
        "print('....................................................')\n",
        "\n",
        "print('Confusion matrix:',confusion_matrix(y_test,y_pred_rf))\n",
        "print('....................................................')\n",
        "\n",
        "print('Precision score:',precision_score(y_test,y_pred_rf))\n",
        "print('....................................................')\n",
        "\n",
        "print('Explained_variance_score:',explained_variance_score(y_test,y_pred_rf))\n",
        "print('....................................................')\n",
        "\n",
        "print(classification_report(y_test,y_pred_rf))"
      ],
      "metadata": {
        "id": "9z6goDScP2p7",
        "colab": {
          "base_uri": "https://localhost:8080/"
        },
        "outputId": "75f8a635-f431-43a6-e61f-1d331b0313ec"
      },
      "execution_count": 48,
      "outputs": [
        {
          "output_type": "stream",
          "name": "stdout",
          "text": [
            "Model Accuracy: 0.8349057631550277\n",
            "....................................................\n",
            "Confusion matrix: [[36894  1919]\n",
            " [ 5658  1424]]\n",
            "....................................................\n",
            "Precision score: 0.4259647023631469\n",
            "....................................................\n",
            "Explained_variance_score: -0.21425343815947873\n",
            "....................................................\n",
            "              precision    recall  f1-score   support\n",
            "\n",
            "           0       0.87      0.95      0.91     38813\n",
            "           1       0.43      0.20      0.27      7082\n",
            "\n",
            "    accuracy                           0.83     45895\n",
            "   macro avg       0.65      0.58      0.59     45895\n",
            "weighted avg       0.80      0.83      0.81     45895\n",
            "\n"
          ]
        }
      ]
    },
    {
      "cell_type": "markdown",
      "source": [
        "- The random forest is 83.45% accurate. Performs just slightly better than decision tree before optimization."
      ],
      "metadata": {
        "id": "vtj5HOjSQ3gH"
      }
    },
    {
      "cell_type": "code",
      "source": [
        "# Finding the best parameters.\n",
        "\n",
        "param = {'bootstrap': [True, False],\n",
        " 'max_depth': [5, 10, 15],\n",
        " 'max_features': ['auto', 'sqrt'],\n",
        " 'min_samples_leaf': [1, 2, 4],\n",
        " 'min_samples_split': [2, 5, 10]\n",
        "}\n",
        "\n",
        "grid_search = GridSearchCV(estimator=rf, \n",
        "                           param_grid=param, \n",
        "                           cv=3, n_jobs=1, verbose=1, scoring = \"accuracy\")"
      ],
      "metadata": {
        "id": "dvhW0ZE1QNsu"
      },
      "execution_count": 49,
      "outputs": []
    },
    {
      "cell_type": "code",
      "source": [
        "# # Fitting grid search to find the ideal parameters to improve the random forest's performance\n",
        "# best_param = grid_search.fit(X_train, y_train)\n",
        "\n",
        "# print('Best bootstrap:', best_param.best_estimator_.get_params()['bootstrap'])\n",
        "# print('Best min_samples_leaf:', best_param.best_estimator_.get_params()['min_samples_leaf'])\n",
        "# print('Best Max_depth:', best_param.best_estimator_.get_params()['max_depth'])\n",
        "# print('Best max_features:', best_param.best_estimator_.get_params()['max_features'])\n",
        "# print('Best n_estimators:', best_param.best_estimator_.get_params()['n_estimators'])\n",
        "# print('best_score',best_param.best_score_)"
      ],
      "metadata": {
        "id": "2-96YXZmRpHz"
      },
      "execution_count": 50,
      "outputs": []
    },
    {
      "cell_type": "code",
      "source": [
        "# Model Selection using the best parameters suggested above\n",
        "model = RandomForestClassifier(bootstrap=True,max_depth=5, min_samples_leaf=1, max_features='auto',n_estimators=100)\n",
        "\n",
        "# Fitting the model:\n",
        "model.fit(X_train,y_train )"
      ],
      "metadata": {
        "id": "oMZqIXHqSQcX",
        "colab": {
          "base_uri": "https://localhost:8080/"
        },
        "outputId": "ee26d5f3-74e7-46cc-c873-7331db0a9277"
      },
      "execution_count": 51,
      "outputs": [
        {
          "output_type": "execute_result",
          "data": {
            "text/plain": [
              "RandomForestClassifier(max_depth=5)"
            ]
          },
          "metadata": {},
          "execution_count": 51
        }
      ]
    },
    {
      "cell_type": "code",
      "source": [
        "y_pred = model.predict(X_test)"
      ],
      "metadata": {
        "id": "VXDAojwTSRPo"
      },
      "execution_count": 52,
      "outputs": []
    },
    {
      "cell_type": "code",
      "source": [
        "# Model Accuracy\n",
        "print(\"Model Accuracy:\",accuracy_score(y_test, y_pred))\n",
        "print('....................................................')\n",
        "\n",
        "print('Confusion matrix:',confusion_matrix(y_test,y_pred))\n",
        "print('....................................................')\n",
        "\n",
        "print('Precision score:',precision_score(y_test,y_pred))\n",
        "print('....................................................')\n",
        "\n",
        "print('Explained_variance_score:',explained_variance_score(y_test,y_pred))\n",
        "print('....................................................')\n",
        "\n",
        "print(classification_report(y_test,y_pred))"
      ],
      "metadata": {
        "id": "oCjaNzEiUGAo",
        "colab": {
          "base_uri": "https://localhost:8080/"
        },
        "outputId": "be5884d3-5df5-4e08-c43c-f9193f498d98"
      },
      "execution_count": 53,
      "outputs": [
        {
          "output_type": "stream",
          "name": "stdout",
          "text": [
            "Model Accuracy: 0.8481751824817518\n",
            "....................................................\n",
            "Confusion matrix: [[38655   158]\n",
            " [ 6810   272]]\n",
            "....................................................\n",
            "Precision score: 0.6325581395348837\n",
            "....................................................\n",
            "Explained_variance_score: -0.002450543952799533\n",
            "....................................................\n",
            "              precision    recall  f1-score   support\n",
            "\n",
            "           0       0.85      1.00      0.92     38813\n",
            "           1       0.63      0.04      0.07      7082\n",
            "\n",
            "    accuracy                           0.85     45895\n",
            "   macro avg       0.74      0.52      0.49     45895\n",
            "weighted avg       0.82      0.85      0.79     45895\n",
            "\n"
          ]
        }
      ]
    },
    {
      "cell_type": "markdown",
      "source": [
        "- Accuracy improves to 83.76%,slightly better. However the precision reduces to 85% and recall increases to 100%."
      ],
      "metadata": {
        "id": "vDR3PHh2WppS"
      }
    },
    {
      "cell_type": "code",
      "source": [
        "# # Defining our test features.\n",
        "# features = df[['HighBP', 'HighChol', 'CholCheck', 'BMI', 'Stroke',\n",
        "#        'HeartDiseaseorAttack', 'AnyHealthcare', 'GenHlth', 'DiffWalk', 'Sex',\n",
        "#        'Age']]\n",
        "\n",
        "# from sklearn.tree import export_graphviz\n",
        "# from sklearn.externals.six import StringIO  \n",
        "# from IPython.display import Image  \n",
        "# import pydotplus\n",
        "\n",
        "# dot_data = StringIO()\n",
        "# # pick a specific tree from the forest\n",
        "# tree = rf.estimators_[10]\n",
        "\n",
        "# export_graphviz(tree, out_file=dot_data,  \n",
        "#                 filled=True, rounded=True,\n",
        "#                 special_characters=True,feature_names = features,class_names=['0','1'])\n",
        "# graph = pydotplus.graph_from_dot_data(dot_data.getvalue())  \n",
        "# graph.write_png('.png')\n",
        "# Image(graph.create_png())"
      ],
      "metadata": {
        "id": "KhTObA--SUDV"
      },
      "execution_count": 54,
      "outputs": []
    },
    {
      "cell_type": "code",
      "source": [
        "# Compute feature importances\n",
        "importances = list(rf.feature_importances_)\n",
        "\n",
        "# List of tuples with variable and importance\n",
        "feature_importances = [(feature, round(importance, 2)) for feature, importance in zip(features, importances)]\n",
        "\n",
        "print(feature_importances) #this already has all the information we need, but it can be tricky to see when there are too many features.\n",
        "print()\n",
        "\n",
        "# Sorting the values in descending order, since we care about the most important features first.\n",
        "feature_importances = sorted(feature_importances, key = lambda x: x[1], reverse = True)\n",
        "\n",
        "# Print out the feature and importances \n",
        "[print('Variable: {:20} Importance: {}'.format(*pair)) for pair in feature_importances];"
      ],
      "metadata": {
        "id": "IsN5VVkWk2qV",
        "colab": {
          "base_uri": "https://localhost:8080/"
        },
        "outputId": "99b89ab7-283a-4f3a-acca-25e2f5f105bd"
      },
      "execution_count": 55,
      "outputs": [
        {
          "output_type": "stream",
          "name": "stdout",
          "text": [
            "[('HighBP', 0.08), ('HighChol', 0.04), ('CholCheck', 0.01), ('BMI', 0.39), ('Stroke', 0.02), ('HeartDiseaseorAttack', 0.03), ('AnyHealthcare', 0.02), ('GenHlth', 0.13), ('DiffWalk', 0.05), ('Sex', 0.03), ('Age', 0.21)]\n",
            "\n",
            "Variable: BMI                  Importance: 0.39\n",
            "Variable: Age                  Importance: 0.21\n",
            "Variable: GenHlth              Importance: 0.13\n",
            "Variable: HighBP               Importance: 0.08\n",
            "Variable: DiffWalk             Importance: 0.05\n",
            "Variable: HighChol             Importance: 0.04\n",
            "Variable: HeartDiseaseorAttack Importance: 0.03\n",
            "Variable: Sex                  Importance: 0.03\n",
            "Variable: Stroke               Importance: 0.02\n",
            "Variable: AnyHealthcare        Importance: 0.02\n",
            "Variable: CholCheck            Importance: 0.01\n"
          ]
        }
      ]
    },
    {
      "cell_type": "markdown",
      "source": [
        "Conclusion from above is that, the random forest has fit a model that it feels it suits to classify Diabetes class using the features in descending  "
      ],
      "metadata": {
        "id": "iTvOGy8snxnM"
      }
    },
    {
      "cell_type": "markdown",
      "source": [
        "# d.) Support Vector Machine(SVM)"
      ],
      "metadata": {
        "id": "3tUyHeSpeuy1"
      }
    },
    {
      "cell_type": "code",
      "source": [
        "# from sklearn.svm import SVC\n",
        "# # Let's now build the svm model \n",
        "# svm = SVC()\n",
        "# # Train the model using the training set\n",
        "# svm.fit(X_train,y_train)\n",
        "\n",
        "# # Predict the response for the test set\n",
        "# y_pred_svm = model.predict(X_test)\n",
        "# y_pred_svm"
      ],
      "metadata": {
        "id": "BUZJ0sBQa1u7"
      },
      "execution_count": 56,
      "outputs": []
    },
    {
      "cell_type": "code",
      "source": [
        "# # Model Accuracy\n",
        "# print(\"Model Accuracy:\",accuracy_score(y_test, y_pred_svm))\n",
        "# print('....................................................')\n",
        "\n",
        "# print('Confusion matrix:',confusion_matrix(y_test,y_pred_svm))\n",
        "# print('....................................................')\n",
        "\n",
        "# print('Precision score:',precision_score(y_test,y_pred_svm))\n",
        "# print('....................................................')\n",
        "\n",
        "# print('Explained_variance_score:',explained_variance_score(y_test,y_pred_svm))\n",
        "# print('....................................................')\n",
        "\n",
        "# print(classification_report(y_test,y_pred_svm))"
      ],
      "metadata": {
        "id": "FAgHSEZuaVFX"
      },
      "execution_count": 57,
      "outputs": []
    },
    {
      "cell_type": "markdown",
      "source": [
        "### Optimization using GridSearchCV"
      ],
      "metadata": {
        "id": "yf_Ez92fZn7K"
      }
    },
    {
      "cell_type": "code",
      "source": [
        "# # Optimizing our model\n",
        "# from sklearn.model_selection import GridSearchCV\n",
        "# param = {'C': [0.1, 1],\n",
        "#               'gamma': [1, 0.1]\n",
        "# }\n",
        "# svm_grid = GridSearchCV(svm,param_grid=param)\n",
        "# svm_grid.fit(X_train,y_train)"
      ],
      "metadata": {
        "id": "gmF7ectKZuma"
      },
      "execution_count": 58,
      "outputs": []
    },
    {
      "cell_type": "code",
      "source": [
        "# # finding best parameters\n",
        "# print(svm_grid.best_params_)"
      ],
      "metadata": {
        "id": "ySdQFJIybKAY"
      },
      "execution_count": 59,
      "outputs": []
    },
    {
      "cell_type": "code",
      "source": [
        "# #Using the best parameters from hyperparameter tuning:\n",
        "# Final= SVC(C = 1, gamma = 0.1)\n",
        "\n",
        "# #Fitting the model:\n",
        "# Final.fit(X_train,y_train)\n",
        "\n",
        "# #Predicting values:\n",
        "# y_pred_svm = Final.predict(X_test)"
      ],
      "metadata": {
        "id": "W5K30MygbO0w"
      },
      "execution_count": 60,
      "outputs": []
    },
    {
      "cell_type": "code",
      "source": [
        "# # Model Accuracy\n",
        "# print(\"Model Accuracy:\",accuracy_score(y_test, y_pred_svm))\n",
        "# print('....................................................')\n",
        "\n",
        "# print('Confusion matrix:',confusion_matrix(y_test,y_pred_svm))\n",
        "# print('....................................................')\n",
        "\n",
        "# print('Precision score:',precision_score(y_test,y_pred_svm))\n",
        "# print('....................................................')\n",
        "\n",
        "# print('Explained_variance_score:',explained_variance_score(y_test,y_pred_svm))\n",
        "# print('....................................................')\n",
        "\n",
        "# print(classification_report(y_test,y_pred_svm))"
      ],
      "metadata": {
        "id": "bS5PFfSObRSI"
      },
      "execution_count": 61,
      "outputs": []
    },
    {
      "cell_type": "markdown",
      "source": [
        "# e.) KNN"
      ],
      "metadata": {
        "id": "9qtqKWZ_4ULp"
      }
    },
    {
      "cell_type": "code",
      "source": [
        "# # fitting KNN\n",
        "\n",
        "# from sklearn.neighbors import KNeighborsClassifier\n",
        "# knn = KNeighborsClassifier()\n",
        "# knn.fit(X_train, y_train)\n",
        "\n",
        "# y_pred_knn = classifier.predict(X_test) # predicting"
      ],
      "metadata": {
        "id": "8PXeXNr3dqo7"
      },
      "execution_count": 62,
      "outputs": []
    },
    {
      "cell_type": "code",
      "source": [
        "# # Model Accuracy\n",
        "# print(\"Model Accuracy:\",accuracy_score(y_test, y_pred_knn))\n",
        "# print('....................................................')\n",
        "\n",
        "# print('Confusion matrix:',confusion_matrix(y_test,y_pred_knn))\n",
        "# print('....................................................')\n",
        "\n",
        "# print('Precision score:',precision_score(y_test,y_pred_knn))\n",
        "# print('....................................................')\n",
        "\n",
        "# print('Explained_variance_score:',explained_variance_score(y_test,y_pred_knn))\n",
        "# print('....................................................')\n",
        "\n",
        "# print(classification_report(y_test,y_pred_knn))"
      ],
      "metadata": {
        "id": "6cdkBrBBcDeW"
      },
      "execution_count": 63,
      "outputs": []
    },
    {
      "cell_type": "markdown",
      "source": [
        "KNN  gives accuracy of  67%"
      ],
      "metadata": {
        "id": "b7-zJAmuUlm9"
      }
    },
    {
      "cell_type": "markdown",
      "source": [
        "### Optimization using randomizedsearchCV"
      ],
      "metadata": {
        "id": "YmmYK-8OcbJf"
      }
    },
    {
      "cell_type": "code",
      "source": [
        "# #Hyperparameter Tuning using random search \n",
        "# from sklearn.model_selection import RandomizedSearchCV\n",
        "# from sklearn.model_selection import KFold\n",
        "# neighbor_range = np.arange(1, 41)\n",
        "# kn = KNeighborsClassifier()\n",
        "\n",
        "# param = {'n_neighbors' : neighbor_range,\n",
        "#          'weights' : ['uniform', 'distance'],\n",
        "#          'metric' : ['manhattan', 'euclidean', 'minkowski']}\n",
        "\n",
        "# kfolds = KFold(n_splits = 10)\n",
        "# rscv = RandomizedSearchCV(knn, param, random_state = 42)\n",
        "# rscv.fit(X_train, y_train)\n",
        "# print(\"Best parameters:\", rscv.best_params_)"
      ],
      "metadata": {
        "id": "_B8YHLMncZtr"
      },
      "execution_count": 64,
      "outputs": []
    },
    {
      "cell_type": "code",
      "source": [
        "# #Fittng the best parameters\n",
        "# kn = KNeighborsClassifier(n_neighbors=15, weights='distance',metric='euclidean')\n",
        "# #Train model \n",
        "# kn.fit(X_train,y_train)\n",
        "# #Predict using model \n",
        "# y_pred_kn = kn.predict(X_test)"
      ],
      "metadata": {
        "id": "712HlOLbc3bT"
      },
      "execution_count": 65,
      "outputs": []
    },
    {
      "cell_type": "code",
      "source": [
        "# # Model Accuracy\n",
        "# print(\"Model Accuracy:\",accuracy_score(y_test, y_pred_kn))\n",
        "# print('....................................................')\n",
        "\n",
        "# print('Confusion matrix:',confusion_matrix(y_test,y_pred_kn))\n",
        "# print('....................................................')\n",
        "\n",
        "# print('Precision score:',precision_score(y_test,y_pred_kn))\n",
        "# print('....................................................')\n",
        "\n",
        "# print('Explained_variance_score:',explained_variance_score(y_test,y_pred_kn))\n",
        "# print('....................................................')\n",
        "\n",
        "# print(classification_report(y_test,y_pred_kn))"
      ],
      "metadata": {
        "id": "DWZWxeCydCDk"
      },
      "execution_count": 66,
      "outputs": []
    },
    {
      "cell_type": "markdown",
      "source": [
        "# f.) Naive Bayes\n",
        "\n",
        "Bernoulli naive Bayes  algorythm is chosen because our dataet is binary valued"
      ],
      "metadata": {
        "id": "cWrnUkpA4i52"
      }
    },
    {
      "cell_type": "code",
      "source": [
        "# Fitting our Naive Bayes model\n",
        "\n",
        "from sklearn.naive_bayes import BernoulliNB\n",
        "\n",
        "# Training our model\n",
        "clf = BernoulliNB()\n",
        "clf.fit(X_train, y_train) \n",
        "\n",
        "# prediction\n",
        "y_pred_clf = clf.predict(X_test)"
      ],
      "metadata": {
        "id": "__8S2_2MzsI6"
      },
      "execution_count": 67,
      "outputs": []
    },
    {
      "cell_type": "code",
      "source": [
        "# Model Accuracy\n",
        "print(\"Model Accuracy:\",accuracy_score(y_test, y_pred_clf))\n",
        "print('....................................................')\n",
        "\n",
        "print('Confusion matrix:',confusion_matrix(y_test,y_pred_clf))\n",
        "print('....................................................')\n",
        "\n",
        "print('Precision score:',precision_score(y_test,y_pred_clf))\n",
        "print('....................................................')\n",
        "\n",
        "print('Explained_variance_score:',explained_variance_score(y_test,y_pred_clf))\n",
        "print('....................................................')\n",
        "\n",
        "print(classification_report(y_test,y_pred_clf))"
      ],
      "metadata": {
        "colab": {
          "base_uri": "https://localhost:8080/"
        },
        "id": "tAO6Zwofgakf",
        "outputId": "f99638fc-e263-4356-949a-0e040d377ec7"
      },
      "execution_count": 69,
      "outputs": [
        {
          "output_type": "stream",
          "name": "stdout",
          "text": [
            "Model Accuracy: 0.8165813269419326\n",
            "....................................................\n",
            "Confusion matrix: [[34469  4344]\n",
            " [ 4074  3008]]\n",
            "....................................................\n",
            "Precision score: 0.4091403699673558\n",
            "....................................................\n",
            "Explained_variance_score: -0.4052681568993959\n",
            "....................................................\n",
            "              precision    recall  f1-score   support\n",
            "\n",
            "           0       0.89      0.89      0.89     38813\n",
            "           1       0.41      0.42      0.42      7082\n",
            "\n",
            "    accuracy                           0.82     45895\n",
            "   macro avg       0.65      0.66      0.65     45895\n",
            "weighted avg       0.82      0.82      0.82     45895\n",
            "\n"
          ]
        }
      ]
    },
    {
      "cell_type": "markdown",
      "source": [
        "Naive Bayes  gives accuracy of 69.7%\n",
        "\n"
      ],
      "metadata": {
        "id": "Q_9ofQbX0DgW"
      }
    },
    {
      "cell_type": "markdown",
      "source": [
        "SVM  gives accuracy of  70% , we used rbf parameter beacuse it is  uses kernel tricks  hence higher accuracy."
      ],
      "metadata": {
        "id": "tG0G2FvG1Gvb"
      }
    },
    {
      "cell_type": "markdown",
      "source": [
        "# g.) Neural Networks"
      ],
      "metadata": {
        "id": "RfvErWWX1uRi"
      }
    },
    {
      "cell_type": "code",
      "source": [
        "from sklearn.neural_network import MLPClassifier\n",
        "# Creating our model\n",
        "mlp = MLPClassifier()\n",
        "\n",
        "# fitting the data\n",
        "mlp.fit(X_train,y_train)\n",
        "\n",
        "# prediction\n",
        "y_pred_mlp = mlp.predict(X_test)"
      ],
      "metadata": {
        "id": "PpF6ETKnz-7v"
      },
      "execution_count": 70,
      "outputs": []
    },
    {
      "cell_type": "code",
      "source": [
        "# Model Accuracy\n",
        "print(\"Model Accuracy:\",accuracy_score(y_test, y_pred_mlp))\n",
        "print('....................................................')\n",
        "\n",
        "print('Confusion matrix:',confusion_matrix(y_test,y_pred_mlp))\n",
        "print('....................................................')\n",
        "\n",
        "print('Precision score:',precision_score(y_test,y_pred_mlp))\n",
        "print('....................................................')\n",
        "\n",
        "print('Explained_variance_score:',explained_variance_score(y_test,y_pred_mlp))\n",
        "print('....................................................')\n",
        "\n",
        "print(classification_report(y_test,y_pred_mlp))"
      ],
      "metadata": {
        "colab": {
          "base_uri": "https://localhost:8080/"
        },
        "id": "2gY4fjWajv4U",
        "outputId": "3269cf98-d60e-42ba-99ce-779527f6e9e0"
      },
      "execution_count": 71,
      "outputs": [
        {
          "output_type": "stream",
          "name": "stdout",
          "text": [
            "Model Accuracy: 0.8509205795838327\n",
            "....................................................\n",
            "Confusion matrix: [[38041   772]\n",
            " [ 6070  1012]]\n",
            "....................................................\n",
            "Precision score: 0.5672645739910314\n",
            "....................................................\n",
            "Explained_variance_score: -0.04027712134490202\n",
            "....................................................\n",
            "              precision    recall  f1-score   support\n",
            "\n",
            "           0       0.86      0.98      0.92     38813\n",
            "           1       0.57      0.14      0.23      7082\n",
            "\n",
            "    accuracy                           0.85     45895\n",
            "   macro avg       0.71      0.56      0.57     45895\n",
            "weighted avg       0.82      0.85      0.81     45895\n",
            "\n"
          ]
        }
      ]
    },
    {
      "cell_type": "markdown",
      "source": [
        "- Accuracy is 85%. With a precition score of 56.73%."
      ],
      "metadata": {
        "id": "mg1ymyEwn6fB"
      }
    },
    {
      "cell_type": "code",
      "source": [
        "# model building\n",
        "mlp = MLPClassifier(hidden_layer_sizes=(30,30,30), activation='relu', random_state=10, max_iter=500,learning_rate='adaptive')\n",
        "# fitting the data\n",
        "mlp.fit(X_train,y_train)"
      ],
      "metadata": {
        "id": "HWEtEnrqtxB5"
      },
      "execution_count": null,
      "outputs": []
    },
    {
      "cell_type": "markdown",
      "source": [
        "# 6.) Conclusion "
      ],
      "metadata": {
        "id": "Rh09yBrQ-LU-"
      }
    },
    {
      "cell_type": "markdown",
      "source": [
        "1. High Blood Pressure, BMI, Smoking, stroke and heart Disease or Attack are major health indicators that contributes to one having diabetes.\n",
        "\n",
        "2. Most non diabetic have high income as compared to diabetic. This suggets that high cost of medication lowers the individual income\n",
        "\n",
        "3. Majority of the respondent who are non diabetic have achieved a high education level as compared to diabetic ones. This shows that medication is given priority over school fees.\n",
        "\n",
        "4. Those who consume alcohol are not diabetic, while those who are diabetic only a few are taking alcohol. \n",
        "This might be those who go against doctors reccomendation that if you are under diabetes medication you should avoid alcohol at all cost."
      ],
      "metadata": {
        "id": "xInfhx5L-Zkg"
      }
    },
    {
      "cell_type": "markdown",
      "source": [
        "# 7.) Recommendations"
      ],
      "metadata": {
        "id": "S-CyDuVYQDpG"
      }
    },
    {
      "cell_type": "markdown",
      "source": [
        "1. Health awareness campaigns to educate the general public on the major health indicators that shows the likelyhood of having diabetes.\n",
        "\n",
        "2. Diabetes medication should be subsidised to allow the family members and the ones affected to priorities on school fees.\n",
        "\n"
      ],
      "metadata": {
        "id": "FGCAneLyQKZ9"
      }
    }
  ]
}